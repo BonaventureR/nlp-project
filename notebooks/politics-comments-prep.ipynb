{
 "cells": [
  {
   "cell_type": "code",
   "execution_count": 9,
   "metadata": {},
   "outputs": [],
   "source": [
    "import re\n",
    "import pandas as pd\n",
    "import nltk"
   ]
  },
  {
   "cell_type": "markdown",
   "metadata": {},
   "source": [
    "# Data"
   ]
  },
  {
   "cell_type": "code",
   "execution_count": 10,
   "metadata": {},
   "outputs": [
    {
     "data": {
      "text/html": [
       "<div>\n",
       "<style scoped>\n",
       "    .dataframe tbody tr th:only-of-type {\n",
       "        vertical-align: middle;\n",
       "    }\n",
       "\n",
       "    .dataframe tbody tr th {\n",
       "        vertical-align: top;\n",
       "    }\n",
       "\n",
       "    .dataframe thead th {\n",
       "        text-align: right;\n",
       "    }\n",
       "</style>\n",
       "<table border=\"1\" class=\"dataframe\">\n",
       "  <thead>\n",
       "    <tr style=\"text-align: right;\">\n",
       "      <th></th>\n",
       "      <th>created_utc</th>\n",
       "      <th>ups</th>\n",
       "      <th>subreddit_id</th>\n",
       "      <th>link_id</th>\n",
       "      <th>name</th>\n",
       "      <th>score_hidden</th>\n",
       "      <th>author_flair_css_class</th>\n",
       "      <th>author_flair_text</th>\n",
       "      <th>subreddit</th>\n",
       "      <th>id</th>\n",
       "      <th>...</th>\n",
       "      <th>downs</th>\n",
       "      <th>archived</th>\n",
       "      <th>author</th>\n",
       "      <th>score</th>\n",
       "      <th>retrieved_on</th>\n",
       "      <th>body</th>\n",
       "      <th>distinguished</th>\n",
       "      <th>edited</th>\n",
       "      <th>controversiality</th>\n",
       "      <th>parent_id</th>\n",
       "    </tr>\n",
       "  </thead>\n",
       "  <tbody>\n",
       "    <tr>\n",
       "      <th>0</th>\n",
       "      <td>1430438400</td>\n",
       "      <td>0.0</td>\n",
       "      <td>t5_2cneq</td>\n",
       "      <td>t3_34f7mc</td>\n",
       "      <td>t1_cqug90i</td>\n",
       "      <td>0.0</td>\n",
       "      <td>NaN</td>\n",
       "      <td>NaN</td>\n",
       "      <td>politics</td>\n",
       "      <td>cqug90i</td>\n",
       "      <td>...</td>\n",
       "      <td>0.0</td>\n",
       "      <td>0.0</td>\n",
       "      <td>Wicked_Truth</td>\n",
       "      <td>0.0</td>\n",
       "      <td>1.432703e+09</td>\n",
       "      <td>Are you really implying we return to those tim...</td>\n",
       "      <td>NaN</td>\n",
       "      <td>0.0</td>\n",
       "      <td>0.0</td>\n",
       "      <td>t1_cqufim0</td>\n",
       "    </tr>\n",
       "    <tr>\n",
       "      <th>1</th>\n",
       "      <td>1430438406</td>\n",
       "      <td>-1.0</td>\n",
       "      <td>t5_2cneq</td>\n",
       "      <td>t3_34fn91</td>\n",
       "      <td>t1_cqug95d</td>\n",
       "      <td>0.0</td>\n",
       "      <td>NaN</td>\n",
       "      <td>NaN</td>\n",
       "      <td>politics</td>\n",
       "      <td>cqug95d</td>\n",
       "      <td>...</td>\n",
       "      <td>0.0</td>\n",
       "      <td>0.0</td>\n",
       "      <td>OceanGroovedropper</td>\n",
       "      <td>-1.0</td>\n",
       "      <td>1.432703e+09</td>\n",
       "      <td>Seems morally questionable to me, but if that'...</td>\n",
       "      <td>NaN</td>\n",
       "      <td>0.0</td>\n",
       "      <td>0.0</td>\n",
       "      <td>t1_cqufu3n</td>\n",
       "    </tr>\n",
       "    <tr>\n",
       "      <th>2</th>\n",
       "      <td>1430438424</td>\n",
       "      <td>1.0</td>\n",
       "      <td>t5_2cneq</td>\n",
       "      <td>t3_34ebvj</td>\n",
       "      <td>t1_cqug9j2</td>\n",
       "      <td>0.0</td>\n",
       "      <td>NaN</td>\n",
       "      <td>NaN</td>\n",
       "      <td>politics</td>\n",
       "      <td>cqug9j2</td>\n",
       "      <td>...</td>\n",
       "      <td>0.0</td>\n",
       "      <td>0.0</td>\n",
       "      <td>Drooperdoo</td>\n",
       "      <td>1.0</td>\n",
       "      <td>1.432703e+09</td>\n",
       "      <td>Ah, Ninjew, we feel the same.\\n\\nWait! Nin*jew...</td>\n",
       "      <td>NaN</td>\n",
       "      <td>0.0</td>\n",
       "      <td>0.0</td>\n",
       "      <td>t1_cqug1n2</td>\n",
       "    </tr>\n",
       "    <tr>\n",
       "      <th>3</th>\n",
       "      <td>1430438433</td>\n",
       "      <td>1.0</td>\n",
       "      <td>t5_2cneq</td>\n",
       "      <td>t3_34a6iq</td>\n",
       "      <td>t1_cqug9p6</td>\n",
       "      <td>0.0</td>\n",
       "      <td>NaN</td>\n",
       "      <td>NaN</td>\n",
       "      <td>politics</td>\n",
       "      <td>cqug9p6</td>\n",
       "      <td>...</td>\n",
       "      <td>0.0</td>\n",
       "      <td>0.0</td>\n",
       "      <td>PabloNueve</td>\n",
       "      <td>1.0</td>\n",
       "      <td>1.432703e+09</td>\n",
       "      <td>I mean I suppose we'll find out. I just have n...</td>\n",
       "      <td>NaN</td>\n",
       "      <td>0.0</td>\n",
       "      <td>0.0</td>\n",
       "      <td>t1_cqtsyye</td>\n",
       "    </tr>\n",
       "    <tr>\n",
       "      <th>4</th>\n",
       "      <td>1430438450</td>\n",
       "      <td>2.0</td>\n",
       "      <td>t5_2cneq</td>\n",
       "      <td>t3_34e3wn</td>\n",
       "      <td>t1_cquga2u</td>\n",
       "      <td>0.0</td>\n",
       "      <td>NaN</td>\n",
       "      <td>NaN</td>\n",
       "      <td>politics</td>\n",
       "      <td>cquga2u</td>\n",
       "      <td>...</td>\n",
       "      <td>0.0</td>\n",
       "      <td>0.0</td>\n",
       "      <td>whosename</td>\n",
       "      <td>2.0</td>\n",
       "      <td>1.432703e+09</td>\n",
       "      <td>Nor should you be able to.    \\nWould you like...</td>\n",
       "      <td>NaN</td>\n",
       "      <td>0.0</td>\n",
       "      <td>0.0</td>\n",
       "      <td>t1_cqu59v3</td>\n",
       "    </tr>\n",
       "  </tbody>\n",
       "</table>\n",
       "<p>5 rows × 22 columns</p>\n",
       "</div>"
      ],
      "text/plain": [
       "  created_utc  ups subreddit_id    link_id        name  score_hidden  \\\n",
       "0  1430438400  0.0     t5_2cneq  t3_34f7mc  t1_cqug90i           0.0   \n",
       "1  1430438406 -1.0     t5_2cneq  t3_34fn91  t1_cqug95d           0.0   \n",
       "2  1430438424  1.0     t5_2cneq  t3_34ebvj  t1_cqug9j2           0.0   \n",
       "3  1430438433  1.0     t5_2cneq  t3_34a6iq  t1_cqug9p6           0.0   \n",
       "4  1430438450  2.0     t5_2cneq  t3_34e3wn  t1_cquga2u           0.0   \n",
       "\n",
       "   author_flair_css_class  author_flair_text subreddit       id  ...  downs  \\\n",
       "0                     NaN                NaN  politics  cqug90i  ...    0.0   \n",
       "1                     NaN                NaN  politics  cqug95d  ...    0.0   \n",
       "2                     NaN                NaN  politics  cqug9j2  ...    0.0   \n",
       "3                     NaN                NaN  politics  cqug9p6  ...    0.0   \n",
       "4                     NaN                NaN  politics  cquga2u  ...    0.0   \n",
       "\n",
       "   archived              author  score  retrieved_on  \\\n",
       "0       0.0        Wicked_Truth    0.0  1.432703e+09   \n",
       "1       0.0  OceanGroovedropper   -1.0  1.432703e+09   \n",
       "2       0.0          Drooperdoo    1.0  1.432703e+09   \n",
       "3       0.0          PabloNueve    1.0  1.432703e+09   \n",
       "4       0.0           whosename    2.0  1.432703e+09   \n",
       "\n",
       "                                                body  distinguished edited  \\\n",
       "0  Are you really implying we return to those tim...            NaN    0.0   \n",
       "1  Seems morally questionable to me, but if that'...            NaN    0.0   \n",
       "2  Ah, Ninjew, we feel the same.\\n\\nWait! Nin*jew...            NaN    0.0   \n",
       "3  I mean I suppose we'll find out. I just have n...            NaN    0.0   \n",
       "4  Nor should you be able to.    \\nWould you like...            NaN    0.0   \n",
       "\n",
       "  controversiality   parent_id  \n",
       "0              0.0  t1_cqufim0  \n",
       "1              0.0  t1_cqufu3n  \n",
       "2              0.0  t1_cqug1n2  \n",
       "3              0.0  t1_cqtsyye  \n",
       "4              0.0  t1_cqu59v3  \n",
       "\n",
       "[5 rows x 22 columns]"
      ]
     },
     "execution_count": 10,
     "metadata": {},
     "output_type": "execute_result"
    }
   ],
   "source": [
    "df = pd.read_csv(\"../datasets/politics-20k-comments.csv\")\n",
    "df.head()"
   ]
  },
  {
   "cell_type": "code",
   "execution_count": 12,
   "metadata": {},
   "outputs": [
    {
     "data": {
      "text/plain": [
       "count         20000\n",
       "unique        18694\n",
       "top       [deleted]\n",
       "freq           1148\n",
       "Name: body, dtype: object"
      ]
     },
     "execution_count": 12,
     "metadata": {},
     "output_type": "execute_result"
    }
   ],
   "source": [
    "all_comments = df['body']\n",
    "all_comments.describe()"
   ]
  },
  {
   "cell_type": "code",
   "execution_count": 13,
   "metadata": {
    "scrolled": true
   },
   "outputs": [
    {
     "data": {
      "text/plain": [
       "count          1148\n",
       "unique            1\n",
       "top       [deleted]\n",
       "freq           1148\n",
       "Name: body, dtype: object"
      ]
     },
     "execution_count": 13,
     "metadata": {},
     "output_type": "execute_result"
    }
   ],
   "source": [
    "# deleted comments Series\n",
    "deleted_comments = all_comments[all_comments == \"[deleted]\"]\n",
    "deleted_comments.describe()"
   ]
  },
  {
   "cell_type": "code",
   "execution_count": 14,
   "metadata": {},
   "outputs": [
    {
     "data": {
      "text/html": [
       "<div>\n",
       "<style scoped>\n",
       "    .dataframe tbody tr th:only-of-type {\n",
       "        vertical-align: middle;\n",
       "    }\n",
       "\n",
       "    .dataframe tbody tr th {\n",
       "        vertical-align: top;\n",
       "    }\n",
       "\n",
       "    .dataframe thead th {\n",
       "        text-align: right;\n",
       "    }\n",
       "</style>\n",
       "<table border=\"1\" class=\"dataframe\">\n",
       "  <thead>\n",
       "    <tr style=\"text-align: right;\">\n",
       "      <th></th>\n",
       "      <th>body</th>\n",
       "    </tr>\n",
       "  </thead>\n",
       "  <tbody>\n",
       "    <tr>\n",
       "      <th>0</th>\n",
       "      <td>Are you really implying we return to those tim...</td>\n",
       "    </tr>\n",
       "    <tr>\n",
       "      <th>1</th>\n",
       "      <td>Seems morally questionable to me, but if that'...</td>\n",
       "    </tr>\n",
       "    <tr>\n",
       "      <th>2</th>\n",
       "      <td>Ah, Ninjew, we feel the same.\\n\\nWait! Nin*jew...</td>\n",
       "    </tr>\n",
       "    <tr>\n",
       "      <th>3</th>\n",
       "      <td>I mean I suppose we'll find out. I just have n...</td>\n",
       "    </tr>\n",
       "    <tr>\n",
       "      <th>4</th>\n",
       "      <td>Nor should you be able to.    \\nWould you like...</td>\n",
       "    </tr>\n",
       "  </tbody>\n",
       "</table>\n",
       "</div>"
      ],
      "text/plain": [
       "                                                body\n",
       "0  Are you really implying we return to those tim...\n",
       "1  Seems morally questionable to me, but if that'...\n",
       "2  Ah, Ninjew, we feel the same.\\n\\nWait! Nin*jew...\n",
       "3  I mean I suppose we'll find out. I just have n...\n",
       "4  Nor should you be able to.    \\nWould you like..."
      ]
     },
     "execution_count": 14,
     "metadata": {},
     "output_type": "execute_result"
    }
   ],
   "source": [
    "# valid comments!\n",
    "comments = all_comments.drop(deleted_comments.index)\n",
    "comments = comments.to_frame().reset_index(drop=True).astype('str')\n",
    "comments.head()"
   ]
  },
  {
   "cell_type": "code",
   "execution_count": 15,
   "metadata": {
    "scrolled": true
   },
   "outputs": [
    {
     "data": {
      "text/plain": [
       "0    are you really implying we return to those tim...\n",
       "1    seems morally questionable to me, but if thats...\n",
       "2    ah, ninjew, we feel the same.\\n\\nwait! nin*jew...\n",
       "3    i mean i suppose well find out. i just have ne...\n",
       "4    nor should you be able to.    \\nwould you like...\n",
       "Name: clean, dtype: object"
      ]
     },
     "execution_count": 15,
     "metadata": {},
     "output_type": "execute_result"
    }
   ],
   "source": [
    "# clean out any urls and and brackets, parenthesis and hyphens, leaving only alphanumeric words\n",
    "url_regex = r\"([--:\\w?@%&+~#=]*\\.[a-z]{2,4}\\/{0,2})((?:[?&](?:\\w+)=(?:\\w+))+|[--:\\w?@%&+~#=]+)?\"\n",
    "special_character_regex = r\"[\\\"'()[\\]]\"\n",
    "\n",
    "#remove urls, special characters, and replace hyphens with a space\n",
    "comments['clean'] = comments['body'].apply(lambda text: text.strip().lower()).apply(lambda text: re.sub(url_regex, '', text)).apply(lambda text: re.sub(special_character_regex, '', text)).apply(lambda text: re.sub(r\"-\", ' ', text))\n",
    "comments['clean'].head()"
   ]
  },
  {
   "cell_type": "code",
   "execution_count": 17,
   "metadata": {
    "scrolled": true
   },
   "outputs": [
    {
     "data": {
      "text/html": [
       "<div>\n",
       "<style scoped>\n",
       "    .dataframe tbody tr th:only-of-type {\n",
       "        vertical-align: middle;\n",
       "    }\n",
       "\n",
       "    .dataframe tbody tr th {\n",
       "        vertical-align: top;\n",
       "    }\n",
       "\n",
       "    .dataframe thead th {\n",
       "        text-align: right;\n",
       "    }\n",
       "</style>\n",
       "<table border=\"1\" class=\"dataframe\">\n",
       "  <thead>\n",
       "    <tr style=\"text-align: right;\">\n",
       "      <th></th>\n",
       "      <th>body</th>\n",
       "      <th>clean</th>\n",
       "      <th>tokens</th>\n",
       "    </tr>\n",
       "  </thead>\n",
       "  <tbody>\n",
       "    <tr>\n",
       "      <th>0</th>\n",
       "      <td>Are you really implying we return to those tim...</td>\n",
       "      <td>are you really implying we return to those tim...</td>\n",
       "      <td>[are, you, really, implying, we, return, to, t...</td>\n",
       "    </tr>\n",
       "    <tr>\n",
       "      <th>1</th>\n",
       "      <td>Seems morally questionable to me, but if that'...</td>\n",
       "      <td>seems morally questionable to me, but if thats...</td>\n",
       "      <td>[seems, morally, questionable, to, me, but, if...</td>\n",
       "    </tr>\n",
       "    <tr>\n",
       "      <th>2</th>\n",
       "      <td>Ah, Ninjew, we feel the same.\\n\\nWait! Nin*jew...</td>\n",
       "      <td>ah, ninjew, we feel the same.\\n\\nwait! nin*jew...</td>\n",
       "      <td>[ah, ninjew, we, feel, the, same, wait, nin, *...</td>\n",
       "    </tr>\n",
       "    <tr>\n",
       "      <th>3</th>\n",
       "      <td>I mean I suppose we'll find out. I just have n...</td>\n",
       "      <td>i mean i suppose well find out. i just have ne...</td>\n",
       "      <td>[i, mean, i, suppose, well, find, out, i, just...</td>\n",
       "    </tr>\n",
       "    <tr>\n",
       "      <th>4</th>\n",
       "      <td>Nor should you be able to.    \\nWould you like...</td>\n",
       "      <td>nor should you be able to.    \\nwould you like...</td>\n",
       "      <td>[nor, should, you, be, able, to, would, you, l...</td>\n",
       "    </tr>\n",
       "    <tr>\n",
       "      <th>...</th>\n",
       "      <td>...</td>\n",
       "      <td>...</td>\n",
       "      <td>...</td>\n",
       "    </tr>\n",
       "    <tr>\n",
       "      <th>18852</th>\n",
       "      <td>Just fucking lie to them, then do what's right...</td>\n",
       "      <td>just fucking lie to them, then do whats right ...</td>\n",
       "      <td>[just, fucking, lie, to, them, then, do, whats...</td>\n",
       "    </tr>\n",
       "    <tr>\n",
       "      <th>18853</th>\n",
       "      <td>Yeah, there's a bunch of factors that are impo...</td>\n",
       "      <td>yeah, theres a bunch of factors that are impor...</td>\n",
       "      <td>[yeah, theres, a, bunch, of, factors, that, ar...</td>\n",
       "    </tr>\n",
       "    <tr>\n",
       "      <th>18854</th>\n",
       "      <td>Money..... there is nothing conservatives will...</td>\n",
       "      <td>money..... there is nothing conservatives will...</td>\n",
       "      <td>[money, there, is, nothing, conservatives, wil...</td>\n",
       "    </tr>\n",
       "    <tr>\n",
       "      <th>18855</th>\n",
       "      <td>Maybe because she is the first woman in over 2...</td>\n",
       "      <td>maybe because she is the first woman in over 2...</td>\n",
       "      <td>[maybe, because, she, is, the, first, woman, i...</td>\n",
       "    </tr>\n",
       "    <tr>\n",
       "      <th>18856</th>\n",
       "      <td>Theoretically, to the voter (and the law in so...</td>\n",
       "      <td>theoretically, to the voter and the law in som...</td>\n",
       "      <td>[theoretically, to, the, voter, and, the, law,...</td>\n",
       "    </tr>\n",
       "  </tbody>\n",
       "</table>\n",
       "<p>18857 rows × 3 columns</p>\n",
       "</div>"
      ],
      "text/plain": [
       "                                                    body  \\\n",
       "0      Are you really implying we return to those tim...   \n",
       "1      Seems morally questionable to me, but if that'...   \n",
       "2      Ah, Ninjew, we feel the same.\\n\\nWait! Nin*jew...   \n",
       "3      I mean I suppose we'll find out. I just have n...   \n",
       "4      Nor should you be able to.    \\nWould you like...   \n",
       "...                                                  ...   \n",
       "18852  Just fucking lie to them, then do what's right...   \n",
       "18853  Yeah, there's a bunch of factors that are impo...   \n",
       "18854  Money..... there is nothing conservatives will...   \n",
       "18855  Maybe because she is the first woman in over 2...   \n",
       "18856  Theoretically, to the voter (and the law in so...   \n",
       "\n",
       "                                                   clean  \\\n",
       "0      are you really implying we return to those tim...   \n",
       "1      seems morally questionable to me, but if thats...   \n",
       "2      ah, ninjew, we feel the same.\\n\\nwait! nin*jew...   \n",
       "3      i mean i suppose well find out. i just have ne...   \n",
       "4      nor should you be able to.    \\nwould you like...   \n",
       "...                                                  ...   \n",
       "18852  just fucking lie to them, then do whats right ...   \n",
       "18853  yeah, theres a bunch of factors that are impor...   \n",
       "18854  money..... there is nothing conservatives will...   \n",
       "18855  maybe because she is the first woman in over 2...   \n",
       "18856  theoretically, to the voter and the law in som...   \n",
       "\n",
       "                                                  tokens  \n",
       "0      [are, you, really, implying, we, return, to, t...  \n",
       "1      [seems, morally, questionable, to, me, but, if...  \n",
       "2      [ah, ninjew, we, feel, the, same, wait, nin, *...  \n",
       "3      [i, mean, i, suppose, well, find, out, i, just...  \n",
       "4      [nor, should, you, be, able, to, would, you, l...  \n",
       "...                                                  ...  \n",
       "18852  [just, fucking, lie, to, them, then, do, whats...  \n",
       "18853  [yeah, theres, a, bunch, of, factors, that, ar...  \n",
       "18854  [money, there, is, nothing, conservatives, wil...  \n",
       "18855  [maybe, because, she, is, the, first, woman, i...  \n",
       "18856  [theoretically, to, the, voter, and, the, law,...  \n",
       "\n",
       "[18857 rows x 3 columns]"
      ]
     },
     "execution_count": 17,
     "metadata": {},
     "output_type": "execute_result"
    }
   ],
   "source": [
    "comments"
   ]
  },
  {
   "cell_type": "code",
   "execution_count": 18,
   "metadata": {},
   "outputs": [],
   "source": [
    "all_words = [token for sentence in comments['tokens'] for token in sentence]"
   ]
  },
  {
   "cell_type": "code",
   "execution_count": 21,
   "metadata": {
    "scrolled": true
   },
   "outputs": [
    {
     "data": {
      "image/png": "[encoded data removed]",
      "text/plain": [
       "<Figure size 432x288 with 1 Axes>"
      ]
     },
     "metadata": {
      "needs_background": "light"
     },
     "output_type": "display_data"
    },
    {
     "data": {
      "text/plain": [
       "(<AxesSubplot:xlabel='Samples', ylabel='Counts'>,\n",
       " [('the', 37299),\n",
       "  ('to', 23155),\n",
       "  ('a', 18133),\n",
       "  ('and', 16646),\n",
       "  ('of', 16198),\n",
       "  ('is', 13098),\n",
       "  ('that', 12576),\n",
       "  ('in', 10884),\n",
       "  ('i', 10543),\n",
       "  ('you', 9733),\n",
       "  ('it', 8318),\n",
       "  ('for', 8247),\n",
       "  ('not', 6201),\n",
       "  ('be', 5969),\n",
       "  ('are', 5858),\n",
       "  ('this', 5660),\n",
       "  ('have', 5536),\n",
       "  ('they', 5240),\n",
       "  ('on', 5211),\n",
       "  ('but', 5032),\n",
       "  ('he', 4868),\n",
       "  ('if', 4754),\n",
       "  ('with', 4540),\n",
       "  ('as', 4475),\n",
       "  ('people', 4188),\n",
       "  ('its', 3373),\n",
       "  ('or', 3348),\n",
       "  ('was', 3345),\n",
       "  ('just', 3324),\n",
       "  (';', 3300),\n",
       "  ('we', 3231),\n",
       "  ('what', 3157),\n",
       "  ('/', 3144),\n",
       "  ('so', 3115),\n",
       "  ('about', 3101),\n",
       "  ('would', 3035),\n",
       "  ('like', 2877),\n",
       "  ('all', 2839),\n",
       "  ('can', 2823),\n",
       "  ('more', 2820),\n",
       "  ('dont', 2792),\n",
       "  ('do', 2745),\n",
       "  ('will', 2727),\n",
       "  ('has', 2708),\n",
       "  ('*', 2704),\n",
       "  ('your', 2631),\n",
       "  ('&', 2571),\n",
       "  ('their', 2536),\n",
       "  ('no', 2534),\n",
       "  ('by', 2532)])"
      ]
     },
     "execution_count": 21,
     "metadata": {},
     "output_type": "execute_result"
    }
   ],
   "source": [
    "freqdist = nltk.FreqDist(all_words)\n",
    "freqdist.plot(100), freqdist.most_common(50)"
   ]
  },
  {
   "cell_type": "markdown",
   "metadata": {},
   "source": [
    "> We can see that our corpus follows zipfs law, and that when plotting the top 100 words, we have a little ledge between 10,000 occurances and 5,000 occurances, and this is where pronouns such as i and you live:"
   ]
  },
  {
   "cell_type": "code",
   "execution_count": 24,
   "metadata": {},
   "outputs": [
    {
     "name": "stdout",
     "output_type": "stream",
     "text": [
      "Total words:  808567\n",
      "Unique words:  22977\n",
      "Words that only occur once:  8818\n"
     ]
    }
   ],
   "source": [
    "print(\"Total words: \", sum(freqdist.values()))\n",
    "print(\"Unique words: \", len(freqdist))\n",
    "print(\"Words that only occur once: \", len([word for word in all_words if freqdist[word] == 1]))"
   ]
  },
  {
   "cell_type": "markdown",
   "metadata": {},
   "source": [
    "> Nearly 80k words in our dataset, with 22k being unique words and 8k only occuring once. That means 72k occur multiple times."
   ]
  },
  {
   "cell_type": "code",
   "execution_count": 25,
   "metadata": {},
   "outputs": [],
   "source": [
    "avg_len_chars = 0\n",
    "for comment in comments['clean']:\n",
    "    avg_len_chars += len(comment)\n",
    "avg_len_chars /= len(comments)\n",
    "\n",
    "avg_len_words = 0\n",
    "for comment in comments['tokens']:\n",
    "    avg_len_words += len(comment)\n",
    "avg_len_words /= len(comments)"
   ]
  },
  {
   "cell_type": "code",
   "execution_count": 26,
   "metadata": {},
   "outputs": [
    {
     "name": "stdout",
     "output_type": "stream",
     "text": [
      "Avg length of sentence (characters):  238.0345760195153\n",
      "Avg length of sentence (words):  42.8788778702869\n",
      "Avg length of word:  5.551324751071958\n"
     ]
    }
   ],
   "source": [
    "print(\"Avg length of sentence (characters): \", avg_len_chars)\n",
    "print(\"Avg length of sentence (words): \", avg_len_words)\n",
    "print(\"Avg length of word: \", avg_len_chars/avg_len_words)"
   ]
  },
  {
   "cell_type": "markdown",
   "metadata": {},
   "source": [
    "> We can see that the average length of a sentence is 42.8 words, or 238 characters. This means that the average word length is 5.5 characters. You can image that this is true because most of the words in the top 20 most frequent words in our list are short, around 1-4 characters in length."
   ]
  },
  {
   "cell_type": "code",
   "execution_count": 27,
   "metadata": {},
   "outputs": [
    {
     "data": {
      "image/png": "[encoded data removed]",
      "text/plain": [
       "<Figure size 432x288 with 1 Axes>"
      ]
     },
     "metadata": {
      "needs_background": "light"
     },
     "output_type": "display_data"
    },
    {
     "data": {
      "text/plain": [
       "<AxesSubplot:xlabel='Samples', ylabel='Counts'>"
      ]
     },
     "execution_count": 27,
     "metadata": {},
     "output_type": "execute_result"
    }
   ],
   "source": [
    "freqdist.plot(20)"
   ]
  },
  {
   "cell_type": "code",
   "execution_count": null,
   "metadata": {},
   "outputs": [],
   "source": []
  }
 ],
 "metadata": {
  "kernelspec": {
   "display_name": "Python 3",
   "language": "python",
   "name": "python3"
  },
  "language_info": {
   "codemirror_mode": {
    "name": "ipython",
    "version": 3
   },
   "file_extension": ".py",
   "mimetype": "text/x-python",
   "name": "python",
   "nbconvert_exporter": "python",
   "pygments_lexer": "ipython3",
   "version": "3.6.12"
  }
 },
 "nbformat": 4,
 "nbformat_minor": 4
}
