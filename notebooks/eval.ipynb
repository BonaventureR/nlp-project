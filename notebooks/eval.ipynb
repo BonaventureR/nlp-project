{
 "cells": [
  {
   "cell_type": "code",
   "execution_count": 1,
   "metadata": {},
   "outputs": [
    {
     "data": {
      "text/plain": [
       "[PhysicalDevice(name='/physical_device:GPU:0', device_type='GPU')]"
      ]
     },
     "execution_count": 1,
     "metadata": {},
     "output_type": "execute_result"
    }
   ],
   "source": [
    "import numpy as np\n",
    "import pandas as pd\n",
    "import nltk\n",
    "import sklearn as sk\n",
    "import re # regex\n",
    "import matplotlib\n",
    "\n",
    "import tensorflow as tf\n",
    "from tensorflow import keras\n",
    "tf.compat.v1.logging.set_verbosity(tf.compat.v1.logging.ERROR)\n",
    "\n",
    "physical_devices = tf.config.list_physical_devices('GPU')\n",
    "tf.config.experimental.set_memory_growth(physical_devices[0], enable=True)\n",
    "physical_devices"
   ]
  },
  {
   "cell_type": "code",
   "execution_count": 2,
   "metadata": {},
   "outputs": [],
   "source": [
    "#load datasets\n",
    "news_df = pd.read_csv('../datasets/news-20k-comments.csv')\n",
    "politics_df = pd.read_csv(\"../datasets/politics-20k-comments.csv\")\n",
    "politicaldiscussion_df = pd.read_csv('../datasets/politicaldiscussion-20k-comments.csv')\n",
    "\n",
    "news_df = news_df.filter(['created_utc', 'body'])\n",
    "politics_df = politics_df.filter(['created_utc', 'body'])\n",
    "politicaldiscussion_df = politicaldiscussion_df.filter(['created_utc', 'body'])"
   ]
  },
  {
   "cell_type": "code",
   "execution_count": 3,
   "metadata": {},
   "outputs": [],
   "source": [
    "#filter out deleted comments\n",
    "news_df = news_df[news_df['body'] != \"[deleted]\"]\n",
    "politics_df = politics_df[politics_df['body'] != \"[deleted]\"]\n",
    "politicaldiscussion_df = politicaldiscussion_df[politicaldiscussion_df['body'] != \"[deleted]\"]"
   ]
  },
  {
   "cell_type": "code",
   "execution_count": 4,
   "metadata": {},
   "outputs": [],
   "source": [
    "# clean out any urls and and brackets, parenthesis and hyphens, leaving only alphanumeric words\n",
    "url_regex = r\"([--:\\w?@%&+~#=]*\\.[a-z]{2,4}\\/{0,2})((?:[?&](?:\\w+)=(?:\\w+))+|[--:\\w?@%&+~#=]+)?\"\n",
    "special_character_regex = r\"[\\\"'()[\\]]\"\n",
    "\n",
    "news_df['body'] = news_df['body'].astype('str')\n",
    "politics_df['body'] = politics_df['body'].astype('str')\n",
    "politicaldiscussion_df['body'] = politicaldiscussion_df['body'].astype('str')\n",
    "\n",
    "#remove urls, special characters, and replace hyphens with a space\n",
    "news_df['clean'] = news_df['body'].apply(lambda text: text.strip().lower()).apply(lambda text: re.sub(url_regex, '', text)).apply(lambda text: re.sub(special_character_regex, '', text)).apply(lambda text: re.sub(r\"-\", ' ', text))\n",
    "politics_df['clean'] = politics_df['body'].apply(lambda text: text.strip().lower()).apply(lambda text: re.sub(url_regex, '', text)).apply(lambda text: re.sub(special_character_regex, '', text)).apply(lambda text: re.sub(r\"-\", ' ', text))\n",
    "politicaldiscussion_df['clean'] = politicaldiscussion_df['body'].apply(lambda text: text.strip().lower()).apply(lambda text: re.sub(url_regex, '', text)).apply(lambda text: re.sub(special_character_regex, '', text)).apply(lambda text: re.sub(r\"-\", ' ', text))"
   ]
  },
  {
   "cell_type": "code",
   "execution_count": 5,
   "metadata": {},
   "outputs": [],
   "source": [
    "#tokenize\n",
    "news_df['tokens'] = news_df['clean'].apply(lambda text: re.sub(r\"[.,!?]\",\" \", text)).apply(lambda text: re.sub(r\"[0-9]\", \" \", text)).apply(nltk.wordpunct_tokenize)\n",
    "politics_df['tokens'] = politics_df['clean'].apply(lambda text: re.sub(r\"[.,!?]\",\" \", text)).apply(lambda text: re.sub(r\"[0-9]\", \" \", text)).apply(nltk.wordpunct_tokenize)\n",
    "politicaldiscussion_df['tokens'] = politicaldiscussion_df['clean'].apply(lambda text: re.sub(r\"[.,!?]\",\" \", text)).apply(lambda text: re.sub(r\"[0-9]\", \" \", text)).apply(nltk.wordpunct_tokenize)"
   ]
  },
  {
   "cell_type": "code",
   "execution_count": 6,
   "metadata": {},
   "outputs": [
    {
     "name": "stdout",
     "output_type": "stream",
     "text": [
      "17536 total comments from r/news\n",
      "18857 total comments from r/politics\n",
      "19174 total comments from r/PoliticalDiscussion\n"
     ]
    }
   ],
   "source": [
    "news_df = news_df.reset_index(drop=True)\n",
    "politics_df = politics_df.reset_index(drop=True)\n",
    "politicaldiscussion_df = politicaldiscussion_df.reset_index(drop=True)\n",
    "print(len(news_df), \"total comments from r/news\")\n",
    "print(len(politics_df), \"total comments from r/politics\")\n",
    "print(len(politicaldiscussion_df), \"total comments from r/PoliticalDiscussion\")"
   ]
  },
  {
   "cell_type": "code",
   "execution_count": 164,
   "metadata": {},
   "outputs": [],
   "source": [
    "all_df = pd.concat([news_df, politics_df, politicaldiscussion_df]) # merge all three subreddit datas"
   ]
  },
  {
   "cell_type": "code",
   "execution_count": 165,
   "metadata": {},
   "outputs": [],
   "source": [
    "# build the test samples for evals\n",
    "# since we trained using 80% of the total comments, we test on 20% of them.\n",
    "\n",
    "import nltk\n",
    "\n",
    "boundary = int(len(news_df)*0.8) #80/20 train/test split\n",
    "news_df_test = news_df[boundary:]\n",
    "\n",
    "boundary = int(len(politics_df)*0.8) #80/20 train/test split\n",
    "politics_df_test = politics_df[boundary:]\n",
    "\n",
    "boundary = int(len(politicaldiscussion_df)*0.8) #80/20 train/test split\n",
    "politicaldiscussion_df_test = politicaldiscussion_df[boundary:]\n",
    "\n",
    "news_test_vocab = nltk.lm.Vocabulary([word for sent in news_df_test['tokens'] for word in sent])\n",
    "politics_test_vocab = nltk.lm.Vocabulary([word for sent in politics_df_test['tokens'] for word in sent])\n",
    "politicaldiscussion_test_vocab = nltk.lm.Vocabulary([word for sent in politicaldiscussion_df_test['tokens'] for word in sent])\n",
    "test_vocab = nltk.lm.Vocabulary([word for sent in all_df['tokens'] for word in sent])"
   ]
  },
  {
   "cell_type": "code",
   "execution_count": 8,
   "metadata": {},
   "outputs": [],
   "source": [
    "def preprocess(tokenizer, texts):\n",
    "    X = np.array(tokenizer.texts_to_sequences(texts)) - 1\n",
    "    return tf.one_hot(X, len(tokenizer.word_index))\n",
    "\n",
    "def generate_char(model, tokenizer, text, temperature=1):\n",
    "    X_new = preprocess(tokenizer, [text])\n",
    "    Y_pred = model.predict(X_new)[0, -1:, :]\n",
    "    rescaled = tf.math.log(Y_pred)/temperature\n",
    "    char_id = tf.random.categorical(rescaled, num_samples=1) + 1\n",
    "    return tokenizer.sequences_to_texts(char_id.numpy())[0]\n",
    "\n",
    "def generate(model, tokenizer, text, n=50, temperature=1):\n",
    "    for _ in range(n):\n",
    "        text += generate_char(model, tokenizer, text, temperature)\n",
    "    return text"
   ]
  },
  {
   "cell_type": "code",
   "execution_count": 9,
   "metadata": {},
   "outputs": [
    {
     "data": {
      "text/plain": [
       "'r'"
      ]
     },
     "execution_count": 9,
     "metadata": {},
     "output_type": "execute_result"
    }
   ],
   "source": [
    "import random\n",
    "def random_char():\n",
    "    return random.choice(list('abcdefghijklmnopqrstuvwxyz'))\n",
    "\n",
    "random_char()"
   ]
  },
  {
   "cell_type": "code",
   "execution_count": 10,
   "metadata": {},
   "outputs": [],
   "source": [
    "#make tokenizers for each of the models\n",
    "news_all_text = \"\"\n",
    "for comment in news_df['clean']:\n",
    "    news_all_text += \"<\" + comment + \">\"\n",
    "    \n",
    "politics_all_text = \"\"\n",
    "for comment in politics_df['clean']:\n",
    "    politics_all_text += \"<\" + comment + \">\"\n",
    "    \n",
    "political_discussion_all_text = \"\"\n",
    "for comment in politicaldiscussion_df['clean']:\n",
    "    political_discussion_all_text += \"<\" + comment + \">\"\n",
    "    \n",
    "news_tokenizer = tf.keras.preprocessing.text.Tokenizer(char_level=True)\n",
    "news_tokenizer.fit_on_texts(news_all_text)\n",
    "\n",
    "politics_tokenizer = tf.keras.preprocessing.text.Tokenizer(char_level=True)\n",
    "politics_tokenizer.fit_on_texts(politics_all_text)\n",
    "\n",
    "political_discussion_tokenizer = tf.keras.preprocessing.text.Tokenizer(char_level=True)\n",
    "political_discussion_tokenizer.fit_on_texts(political_discussion_all_text)"
   ]
  },
  {
   "cell_type": "code",
   "execution_count": 11,
   "metadata": {},
   "outputs": [],
   "source": [
    "# load models\n",
    "news_model = keras.models.load_model('saved_models/NEWS_RNN_2_GRU_128_SOFTMAX_03_DROPOUT_EARLY_STOPPING', compile=False)\n",
    "politics_model = keras.models.load_model('saved_models/POLITICS_RNN_2_GRU_128_SOFTMAX_03_DROPOUT_EARLY_STOPPING', compile=False)\n",
    "political_discussion_model = keras.models.load_model('saved_models/POLDIS_RNN_2_GRU_128_SOFTMAX_03_DROPOUT_EARLY_STOPPING/', compile=False)"
   ]
  },
  {
   "cell_type": "code",
   "execution_count": 12,
   "metadata": {},
   "outputs": [
    {
     "name": "stdout",
     "output_type": "stream",
     "text": [
      "Fake sentence from r/news:\n",
      " he really the rich and they werent problem with the right to the same than they werent problem with t \n",
      "\n",
      "Fake sentence from r/politics:\n",
      " ke is the people with a socialist the possible with a conservative is the same thing and some time is \n",
      "\n",
      "Fake sentence from r/PoliticalDiscussion:\n",
      " zens that be a sense that the fact of the problem is that the country was a serious with more of the  \n",
      "\n"
     ]
    }
   ],
   "source": [
    "print(\"Fake sentence from r/news:\\n\", generate(news_model, news_tokenizer, random_char(), n=100, temperature=0.2),\"\\n\")\n",
    "print(\"Fake sentence from r/politics:\\n\", generate(politics_model, politics_tokenizer, random_char(), n=100, temperature=0.2),\"\\n\")\n",
    "print(\"Fake sentence from r/PoliticalDiscussion:\\n\", generate(political_discussion_model, political_discussion_tokenizer, random_char(), n=100, temperature=0.2),\"\\n\")"
   ]
  },
  {
   "cell_type": "code",
   "execution_count": 93,
   "metadata": {},
   "outputs": [
    {
     "data": {
      "text/plain": [
       "9493"
      ]
     },
     "execution_count": 93,
     "metadata": {},
     "output_type": "execute_result"
    }
   ],
   "source": [
    "len(news_test_vocab)"
   ]
  },
  {
   "cell_type": "code",
   "execution_count": 167,
   "metadata": {},
   "outputs": [
    {
     "name": "stdout",
     "output_type": "stream",
     "text": [
      "Total words:  2853399\n",
      "Unique words:  39777\n",
      "Words that only occur once:  14367\n"
     ]
    }
   ],
   "source": [
    "all_words = [token for sentence in all_df['tokens'] for token in sentence]\n",
    "\n",
    "freqdist = nltk.FreqDist(all_words)\n",
    "freqdist\n",
    "\n",
    "unique_words = []\n",
    "for word in all_words:\n",
    "    if word not in unique_words:\n",
    "        unique_words.append(word)\n",
    "\n",
    "print(\"Total words: \", len(all_words))\n",
    "print(\"Unique words: \", len(unique_words))\n",
    "print(\"Words that only occur once: \", len([word for word in all_words if freqdist[word] == 1]))"
   ]
  },
  {
   "cell_type": "code",
   "execution_count": 166,
   "metadata": {},
   "outputs": [
    {
     "name": "stdout",
     "output_type": "stream",
     "text": [
      "Perplexities of test vocabularies\n",
      "==============================\n",
      "r/news: 2.7179962127382726\n",
      "r/politics: 2.764990642771706\n",
      "r/PoliticalDiscussion: 3.1606773869653226\n",
      "Whole: 4.386876986090843\n"
     ]
    }
   ],
   "source": [
    "def perplexity(vocab):\n",
    "    #perplexity is 2^entropy\n",
    "    entropy = -1 * np.array([np.log(1/vocab[word]) for word in vocab.counts]).mean()\n",
    "    return np.e ** entropy\n",
    "\n",
    "print(\"Perplexities of test vocabularies\")\n",
    "print(\"==============================\")\n",
    "print(\"r/news:\", perplexity(news_test_vocab))\n",
    "print(\"r/politics:\", perplexity(politics_test_vocab))\n",
    "print(\"r/PoliticalDiscussion:\", perplexity(politicaldiscussion_test_vocab))\n",
    "print(\"Whole:\", perplexity(test_vocab))"
   ]
  },
  {
   "cell_type": "code",
   "execution_count": 131,
   "metadata": {},
   "outputs": [
    {
     "name": "stdout",
     "output_type": "stream",
     "text": [
      "Perplexities of models\n",
      "==============================\n",
      "r/news: 5.864985442469667\n",
      "r/politics: 4.437095519003664\n",
      "r/PoliticalDiscussion: 5.528961477624003\n"
     ]
    }
   ],
   "source": [
    "#losses from tensorflow logs\n",
    "news_loss = 1.769\n",
    "politics_loss = 1.49\n",
    "political_discussion_loss = 1.71\n",
    "print(\"Perplexities of models\")\n",
    "print(\"==============================\")\n",
    "print(\"r/news:\", np.e  ** news_loss)\n",
    "print(\"r/politics:\", np.e  ** politics_loss)\n",
    "print(\"r/PoliticalDiscussion:\", np.e  ** political_discussion_loss)"
   ]
  },
  {
   "cell_type": "code",
   "execution_count": 132,
   "metadata": {},
   "outputs": [],
   "source": [
    "# sentiment analysis\n",
    "\n",
    "from transformers import pipeline\n",
    "classifier = pipeline('sentiment-analysis')"
   ]
  },
  {
   "cell_type": "code",
   "execution_count": 153,
   "metadata": {},
   "outputs": [],
   "source": [
    "#random selection of 500 sentences from each subreddit\n",
    "#BERT only allows for 512 tokens for embeddings\n",
    "news_sentiments = classifier(list(news_df[news_df['clean'].str.len() < 512]['clean'].sample(500)))\n",
    "politics_sentiments = classifier(list(politics_df[politics_df['clean'].str.len() < 512]['clean'].sample(500)))\n",
    "politicaldiscussion_sentiments = classifier(list(politicaldiscussion_df[politicaldiscussion_df['clean'].str.len() < 512]['clean'].sample(500)))"
   ]
  },
  {
   "cell_type": "code",
   "execution_count": 154,
   "metadata": {},
   "outputs": [],
   "source": [
    "news_adjusted_sentiments = np.array([result['score'] * 1 if result['label'] == \"POSITIVE\" else result['score'] * -1 for result in news_sentiments])\n",
    "\n",
    "politics_adjusted_sentiments = np.array([result['score'] * 1 if result['label'] == \"POSITIVE\" else result['score'] * -1 for result in politics_sentiments])\n",
    "\n",
    "politicaldiscussion_adjusted_sentiments = np.array([result['score'] * 1 if result['label'] == \"POSITIVE\" else result['score'] * -1 for result in politicaldiscussion_sentiments])"
   ]
  },
  {
   "cell_type": "code",
   "execution_count": 155,
   "metadata": {},
   "outputs": [],
   "source": [
    "news_avg_sentiment = news_adjusted_sentiments.mean()\n",
    "politics_avg_sentiment = politics_adjusted_sentiments.mean()\n",
    "politicaldiscussion_sentiment = politicaldiscussion_adjusted_sentiments.mean()"
   ]
  },
  {
   "cell_type": "code",
   "execution_count": 158,
   "metadata": {},
   "outputs": [],
   "source": [
    "#ngenerated sentences\n",
    "news_generated = []\n",
    "for i in range(200):\n",
    "    news_generated.append(generate(news_model, news_tokenizer, random_char(), n=100, temperature=0.3))\n",
    "    \n",
    "politics_generated = []\n",
    "for i in range(200):\n",
    "    politics_generated.append(generate(politics_model, politics_tokenizer, random_char(), n=100, temperature=0.3))\n",
    "    \n",
    "political_discussion_generated = []\n",
    "for i in range(200):\n",
    "    political_discussion_generated.append(generate(political_discussion_model, political_discussion_tokenizer, random_char(), n=100, temperature=0.3))"
   ]
  },
  {
   "cell_type": "code",
   "execution_count": 161,
   "metadata": {},
   "outputs": [],
   "source": [
    "news_generated_sentiments = classifier(news_generated)\n",
    "news_generated_avg_sentiment = np.array([result['score'] * 1 if result['label'] == \"POSITIVE\" else result['score'] * -1 for result in news_generated_sentiments]).mean()\n",
    "\n",
    "politics_generated_sentiments = classifier(politics_generated)\n",
    "politics_generated_avg_sentiment = np.array([result['score'] * 1 if result['label'] == \"POSITIVE\" else result['score'] * -1 for result in politics_generated_sentiments]).mean()\n",
    "\n",
    "political_discussion_generated_sentiments = classifier(political_discussion_generated)\n",
    "political_discussion_generated_avg_sentiment = np.array([result['score'] * 1 if result['label'] == \"POSITIVE\" else result['score'] * -1 for result in political_discussion_generated_sentiments]).mean()"
   ]
  },
  {
   "cell_type": "code",
   "execution_count": 162,
   "metadata": {},
   "outputs": [
    {
     "name": "stdout",
     "output_type": "stream",
     "text": [
      "Average Sentiments for Subreddits\n",
      "r/news: -0.6204939737319947\n",
      "r/politics: -0.4521908963918686\n",
      "r/PoliticalDiscussion: -0.46540864324569703\n",
      "\n",
      "Is this really surprising?\n"
     ]
    }
   ],
   "source": [
    "print(\"Average Sentiments for Subreddits\")\n",
    "(\"==============================\")\n",
    "print(\"r/news:\", news_avg_sentiment)\n",
    "print(\"r/politics:\", politics_avg_sentiment)\n",
    "print(\"r/PoliticalDiscussion:\", politicaldiscussion_sentiment)\n",
    "print(\"\\nIs this really surprising?\")"
   ]
  },
  {
   "cell_type": "code",
   "execution_count": 163,
   "metadata": {},
   "outputs": [
    {
     "name": "stdout",
     "output_type": "stream",
     "text": [
      "Average Sentiments for Generated Sentences\n",
      "r/news: -0.6637715741991996\n",
      "r/politics: -0.5380840355157852\n",
      "r/PoliticalDiscussion: -0.842566411793232\n"
     ]
    }
   ],
   "source": [
    "print(\"Average Sentiments for Generated Sentences\")\n",
    "(\"==============================\")\n",
    "print(\"r/news:\", news_generated_avg_sentiment)\n",
    "print(\"r/politics:\", politics_generated_avg_sentiment)\n",
    "print(\"r/PoliticalDiscussion:\", political_discussion_generated_avg_sentiment)"
   ]
  },
  {
   "cell_type": "code",
   "execution_count": 104,
   "metadata": {},
   "outputs": [],
   "source": [
    "import seaborn as sns\n",
    "sns.set_theme()\n",
    "%matplotlib inline"
   ]
  },
  {
   "cell_type": "code",
   "execution_count": 113,
   "metadata": {},
   "outputs": [
    {
     "data": {
      "text/html": [
       "<div>\n",
       "<style scoped>\n",
       "    .dataframe tbody tr th:only-of-type {\n",
       "        vertical-align: middle;\n",
       "    }\n",
       "\n",
       "    .dataframe tbody tr th {\n",
       "        vertical-align: top;\n",
       "    }\n",
       "\n",
       "    .dataframe thead th {\n",
       "        text-align: right;\n",
       "    }\n",
       "</style>\n",
       "<table border=\"1\" class=\"dataframe\">\n",
       "  <thead>\n",
       "    <tr style=\"text-align: right;\">\n",
       "      <th></th>\n",
       "      <th>Model</th>\n",
       "      <th>Perplexity</th>\n",
       "    </tr>\n",
       "  </thead>\n",
       "  <tbody>\n",
       "    <tr>\n",
       "      <th>0</th>\n",
       "      <td>Baseline</td>\n",
       "      <td>11.679503</td>\n",
       "    </tr>\n",
       "    <tr>\n",
       "      <th>1</th>\n",
       "      <td></td>\n",
       "      <td>0.000000</td>\n",
       "    </tr>\n",
       "    <tr>\n",
       "      <th>2</th>\n",
       "      <td>r/news</td>\n",
       "      <td>5.864985</td>\n",
       "    </tr>\n",
       "    <tr>\n",
       "      <th>3</th>\n",
       "      <td>r/politics</td>\n",
       "      <td>4.437096</td>\n",
       "    </tr>\n",
       "    <tr>\n",
       "      <th>4</th>\n",
       "      <td>r/PolitialDiscussion</td>\n",
       "      <td>5.528961</td>\n",
       "    </tr>\n",
       "  </tbody>\n",
       "</table>\n",
       "</div>"
      ],
      "text/plain": [
       "                  Model  Perplexity\n",
       "0              Baseline   11.679503\n",
       "1                          0.000000\n",
       "2                r/news    5.864985\n",
       "3            r/politics    4.437096\n",
       "4  r/PolitialDiscussion    5.528961"
      ]
     },
     "execution_count": 113,
     "metadata": {},
     "output_type": "execute_result"
    }
   ],
   "source": [
    "perplexity_df = pd.DataFrame([[\"Baseline\", 11.679503125466205], [\"\",0], [\"r/news\", 5.864985442469667],[\"r/politics\", 4.437095519003664],[\"r/PolitialDiscussion\", 5.528961477624003]], columns=[\"Model\", \"Perplexity\"])\n",
    "perplexity_df"
   ]
  },
  {
   "cell_type": "code",
   "execution_count": 128,
   "metadata": {},
   "outputs": [
    {
     "data": {
      "image/png": "[encoded data removed]",
      "text/plain": [
       "<Figure size 360x360 with 1 Axes>"
      ]
     },
     "metadata": {
      "needs_background": "light"
     },
     "output_type": "display_data"
    }
   ],
   "source": [
    "plot = sns.catplot(x=\"Model\", y=\"Perplexity\", kind=\"bar\", data=perplexity_df)\n",
    "plot.set_xticklabels(rotation=-30)\n",
    "plot.savefig('perplexity.png', dpi=150)"
   ]
  },
  {
   "cell_type": "code",
   "execution_count": 143,
   "metadata": {},
   "outputs": [],
   "source": [
    "def evaluate_precision(generated_sents, vocab):\n",
    "    generated_tokens = [token for sent in generated_sents for token in sent.split()]\n",
    "    true_positive = 0\n",
    "    false_positive = 0\n",
    "    for word in generated_tokens:\n",
    "        if word in vocab:\n",
    "            true_positive += 1\n",
    "        else:\n",
    "            false_positive += 1\n",
    "    \n",
    "    return true_positive / (true_positive + false_positive)"
   ]
  },
  {
   "cell_type": "code",
   "execution_count": 147,
   "metadata": {},
   "outputs": [
    {
     "name": "stdout",
     "output_type": "stream",
     "text": [
      "Precisions\n",
      "============================\n",
      "r/news: 0.9599271402550091\n",
      "r/politics: 0.9532530120481928\n",
      "r/PoliticalDiscussion: 0.9444967074317968\n"
     ]
    }
   ],
   "source": [
    "print(\"Precisions\")\n",
    "print(\"============================\")\n",
    "print(\"r/news:\", evaluate_precision(news_generated, news_test_vocab))\n",
    "print(\"r/politics:\", evaluate_precision(politics_generated, politics_test_vocab))\n",
    "print(\"r/PoliticalDiscussion:\", evaluate_precision(political_discussion_generated, politicaldiscussion_test_vocab))"
   ]
  },
  {
   "cell_type": "code",
   "execution_count": 151,
   "metadata": {},
   "outputs": [
    {
     "data": {
      "text/html": [
       "<div>\n",
       "<style scoped>\n",
       "    .dataframe tbody tr th:only-of-type {\n",
       "        vertical-align: middle;\n",
       "    }\n",
       "\n",
       "    .dataframe tbody tr th {\n",
       "        vertical-align: top;\n",
       "    }\n",
       "\n",
       "    .dataframe thead th {\n",
       "        text-align: right;\n",
       "    }\n",
       "</style>\n",
       "<table border=\"1\" class=\"dataframe\">\n",
       "  <thead>\n",
       "    <tr style=\"text-align: right;\">\n",
       "      <th></th>\n",
       "      <th>Model</th>\n",
       "      <th>Precision</th>\n",
       "    </tr>\n",
       "  </thead>\n",
       "  <tbody>\n",
       "    <tr>\n",
       "      <th>0</th>\n",
       "      <td>Baseline</td>\n",
       "      <td>0.882550</td>\n",
       "    </tr>\n",
       "    <tr>\n",
       "      <th>1</th>\n",
       "      <td></td>\n",
       "      <td>0.000000</td>\n",
       "    </tr>\n",
       "    <tr>\n",
       "      <th>2</th>\n",
       "      <td>r/news</td>\n",
       "      <td>0.959927</td>\n",
       "    </tr>\n",
       "    <tr>\n",
       "      <th>3</th>\n",
       "      <td>r/politics</td>\n",
       "      <td>0.953253</td>\n",
       "    </tr>\n",
       "    <tr>\n",
       "      <th>4</th>\n",
       "      <td>r/PolitialDiscussion</td>\n",
       "      <td>0.944497</td>\n",
       "    </tr>\n",
       "  </tbody>\n",
       "</table>\n",
       "</div>"
      ],
      "text/plain": [
       "                  Model  Precision\n",
       "0              Baseline   0.882550\n",
       "1                         0.000000\n",
       "2                r/news   0.959927\n",
       "3            r/politics   0.953253\n",
       "4  r/PolitialDiscussion   0.944497"
      ]
     },
     "execution_count": 151,
     "metadata": {},
     "output_type": "execute_result"
    }
   ],
   "source": [
    "precisions_df = pd.DataFrame([[\"Baseline\", 0.8825503355704698], [\"\",0], [\"r/news\", 0.9599271402550091],[\"r/politics\", 0.9532530120481928],[\"r/PolitialDiscussion\", 0.9444967074317968]], columns=[\"Model\", \"Precision\"])\n",
    "precisions_df"
   ]
  },
  {
   "cell_type": "code",
   "execution_count": 152,
   "metadata": {},
   "outputs": [
    {
     "data": {
      "image/png": "[encoded data removed]",
      "text/plain": [
       "<Figure size 360x360 with 1 Axes>"
      ]
     },
     "metadata": {
      "needs_background": "light"
     },
     "output_type": "display_data"
    }
   ],
   "source": [
    "plot = sns.catplot(x=\"Model\", y=\"Precision\", kind=\"bar\", data=precisions_df)\n",
    "plot.set_xticklabels(rotation=-30)\n",
    "plot.savefig('precision.png', dpi=150)"
   ]
  },
  {
   "cell_type": "code",
   "execution_count": 168,
   "metadata": {},
   "outputs": [
    {
     "data": {
      "text/plain": [
       "['ve that is that is the same thing and the american people with the subject of the bush since the amer',\n",
       " 'e is the fure commanity. they let the bush in the person with the same thing that was a same and more',\n",
       " 'just believe the big police and way in the subject of the senator in the system.  i dont let my mane ',\n",
       " 'out for a state and comparison and dont let money to come the people would be a fair as a senator is ',\n",
       " 'can candidate with the subject of the american people with a conservative with him and why i make a s']"
      ]
     },
     "execution_count": 168,
     "metadata": {},
     "output_type": "execute_result"
    }
   ],
   "source": [
    "politics_generated[:5]"
   ]
  },
  {
   "cell_type": "code",
   "execution_count": 169,
   "metadata": {},
   "outputs": [
    {
     "data": {
      "text/plain": [
       "['ze what the cops do not really mean it is the right of a point of the police are going to do anything',\n",
       " 'ze where they werent the riots were recently the reason a problem is a cop of the station and the dog',\n",
       " 'country to come of the right to the cops are arrested with the police are the rest of the station of ',\n",
       " 'e are the way they werent simply the station of the same states and the cops in the situation in the ',\n",
       " 'm a rich the police are the station about the police are true. \\n\\nthey werent problem with the rich an']"
      ]
     },
     "execution_count": 169,
     "metadata": {},
     "output_type": "execute_result"
    }
   ],
   "source": [
    "news_generated[:5]"
   ]
  },
  {
   "cell_type": "code",
   "execution_count": 171,
   "metadata": {},
   "outputs": [
    {
     "data": {
      "text/plain": [
       "['ugh the conservative company of the same of the work of the same than the majority of the problem tha',\n",
       " 'ctions will control in the fact of the throat of the world and the senate of the oricion of the probl',\n",
       " 'control of the work for the true program without a control of the world in the same thing that they w',\n",
       " 'x a some of the country before the iraqi state of the sentral states that state is the last of the se',\n",
       " 'e the fact of the same that the last of the result of the democratic problem is that the green presid']"
      ]
     },
     "execution_count": 171,
     "metadata": {},
     "output_type": "execute_result"
    }
   ],
   "source": [
    "political_discussion_generated[:5]"
   ]
  },
  {
   "cell_type": "code",
   "execution_count": null,
   "metadata": {},
   "outputs": [],
   "source": []
  }
 ],
 "metadata": {
  "kernelspec": {
   "display_name": "Python 3",
   "language": "python",
   "name": "python3"
  },
  "language_info": {
   "codemirror_mode": {
    "name": "ipython",
    "version": 3
   },
   "file_extension": ".py",
   "mimetype": "text/x-python",
   "name": "python",
   "nbconvert_exporter": "python",
   "pygments_lexer": "ipython3",
   "version": "3.8.5"
  }
 },
 "nbformat": 4,
 "nbformat_minor": 4
}
