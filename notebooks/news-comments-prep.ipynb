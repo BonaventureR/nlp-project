{
 "cells": [
  {
   "cell_type": "markdown",
   "metadata": {},
   "source": [
    "## Preparation of r/news data by Nicholas Osaka"
   ]
  },
  {
   "cell_type": "code",
   "execution_count": 1,
   "metadata": {},
   "outputs": [],
   "source": [
    "import numpy as np\n",
    "import pandas as pd\n",
    "import nltk\n",
    "import sklearn as sk"
   ]
  },
  {
   "cell_type": "code",
   "execution_count": 2,
   "metadata": {},
   "outputs": [
    {
     "data": {
      "text/html": [
       "<div>\n",
       "<style scoped>\n",
       "    .dataframe tbody tr th:only-of-type {\n",
       "        vertical-align: middle;\n",
       "    }\n",
       "\n",
       "    .dataframe tbody tr th {\n",
       "        vertical-align: top;\n",
       "    }\n",
       "\n",
       "    .dataframe thead th {\n",
       "        text-align: right;\n",
       "    }\n",
       "</style>\n",
       "<table border=\"1\" class=\"dataframe\">\n",
       "  <thead>\n",
       "    <tr style=\"text-align: right;\">\n",
       "      <th></th>\n",
       "      <th>created_utc</th>\n",
       "      <th>ups</th>\n",
       "      <th>subreddit_id</th>\n",
       "      <th>link_id</th>\n",
       "      <th>name</th>\n",
       "      <th>score_hidden</th>\n",
       "      <th>author_flair_css_class</th>\n",
       "      <th>author_flair_text</th>\n",
       "      <th>subreddit</th>\n",
       "      <th>id</th>\n",
       "      <th>...</th>\n",
       "      <th>downs</th>\n",
       "      <th>archived</th>\n",
       "      <th>author</th>\n",
       "      <th>score</th>\n",
       "      <th>retrieved_on</th>\n",
       "      <th>body</th>\n",
       "      <th>distinguished</th>\n",
       "      <th>edited</th>\n",
       "      <th>controversiality</th>\n",
       "      <th>parent_id</th>\n",
       "    </tr>\n",
       "  </thead>\n",
       "  <tbody>\n",
       "    <tr>\n",
       "      <th>0</th>\n",
       "      <td>1430438402</td>\n",
       "      <td>-11.0</td>\n",
       "      <td>t5_2qh3l</td>\n",
       "      <td>t3_34f1lq</td>\n",
       "      <td>t1_cqug92b</td>\n",
       "      <td>0.0</td>\n",
       "      <td>NaN</td>\n",
       "      <td>NaN</td>\n",
       "      <td>news</td>\n",
       "      <td>cqug92b</td>\n",
       "      <td>...</td>\n",
       "      <td>0.0</td>\n",
       "      <td>0.0</td>\n",
       "      <td>hogsucker</td>\n",
       "      <td>-11.0</td>\n",
       "      <td>1.432703e+09</td>\n",
       "      <td>1-She got to be a bigwig at Google by sleeping...</td>\n",
       "      <td>NaN</td>\n",
       "      <td>0.0</td>\n",
       "      <td>0.0</td>\n",
       "      <td>t1_cqu4t11</td>\n",
       "    </tr>\n",
       "    <tr>\n",
       "      <th>1</th>\n",
       "      <td>1430438407</td>\n",
       "      <td>1.0</td>\n",
       "      <td>t5_2qh3l</td>\n",
       "      <td>t3_34exjb</td>\n",
       "      <td>t1_cqug96h</td>\n",
       "      <td>0.0</td>\n",
       "      <td>NaN</td>\n",
       "      <td>NaN</td>\n",
       "      <td>news</td>\n",
       "      <td>cqug96h</td>\n",
       "      <td>...</td>\n",
       "      <td>0.0</td>\n",
       "      <td>0.0</td>\n",
       "      <td>flal4</td>\n",
       "      <td>1.0</td>\n",
       "      <td>1.432703e+09</td>\n",
       "      <td>For those about to lynch this guy [here](http:...</td>\n",
       "      <td>NaN</td>\n",
       "      <td>0.0</td>\n",
       "      <td>1.0</td>\n",
       "      <td>t1_cqudz0p</td>\n",
       "    </tr>\n",
       "    <tr>\n",
       "      <th>2</th>\n",
       "      <td>1430438439</td>\n",
       "      <td>4.0</td>\n",
       "      <td>t5_2qh3l</td>\n",
       "      <td>t3_34f10p</td>\n",
       "      <td>t1_cqug9tk</td>\n",
       "      <td>0.0</td>\n",
       "      <td>NaN</td>\n",
       "      <td>NaN</td>\n",
       "      <td>news</td>\n",
       "      <td>cqug9tk</td>\n",
       "      <td>...</td>\n",
       "      <td>0.0</td>\n",
       "      <td>0.0</td>\n",
       "      <td>HitachinoBia</td>\n",
       "      <td>4.0</td>\n",
       "      <td>1.432703e+09</td>\n",
       "      <td>It feels like black people are the most racist...</td>\n",
       "      <td>NaN</td>\n",
       "      <td>0.0</td>\n",
       "      <td>1.0</td>\n",
       "      <td>t1_cqufsip</td>\n",
       "    </tr>\n",
       "    <tr>\n",
       "      <th>3</th>\n",
       "      <td>1430438448</td>\n",
       "      <td>0.0</td>\n",
       "      <td>t5_2qh3l</td>\n",
       "      <td>t3_34cvvg</td>\n",
       "      <td>t1_cquga1l</td>\n",
       "      <td>0.0</td>\n",
       "      <td>NaN</td>\n",
       "      <td>NaN</td>\n",
       "      <td>news</td>\n",
       "      <td>cquga1l</td>\n",
       "      <td>...</td>\n",
       "      <td>0.0</td>\n",
       "      <td>0.0</td>\n",
       "      <td>[deleted]</td>\n",
       "      <td>0.0</td>\n",
       "      <td>1.432703e+09</td>\n",
       "      <td>[deleted]</td>\n",
       "      <td>NaN</td>\n",
       "      <td>0.0</td>\n",
       "      <td>0.0</td>\n",
       "      <td>t3_34cvvg</td>\n",
       "    </tr>\n",
       "    <tr>\n",
       "      <th>4</th>\n",
       "      <td>1430438449</td>\n",
       "      <td>-10.0</td>\n",
       "      <td>t5_2qh3l</td>\n",
       "      <td>t3_34e7eo</td>\n",
       "      <td>t1_cquga1v</td>\n",
       "      <td>0.0</td>\n",
       "      <td>NaN</td>\n",
       "      <td>NaN</td>\n",
       "      <td>news</td>\n",
       "      <td>cquga1v</td>\n",
       "      <td>...</td>\n",
       "      <td>0.0</td>\n",
       "      <td>0.0</td>\n",
       "      <td>Cultiststeve</td>\n",
       "      <td>-10.0</td>\n",
       "      <td>1.432703e+09</td>\n",
       "      <td>Its because otherwise thats all that would app...</td>\n",
       "      <td>NaN</td>\n",
       "      <td>0.0</td>\n",
       "      <td>0.0</td>\n",
       "      <td>t1_cqudxkr</td>\n",
       "    </tr>\n",
       "  </tbody>\n",
       "</table>\n",
       "<p>5 rows × 22 columns</p>\n",
       "</div>"
      ],
      "text/plain": [
       "  created_utc   ups subreddit_id    link_id        name  score_hidden  \\\n",
       "0  1430438402 -11.0     t5_2qh3l  t3_34f1lq  t1_cqug92b           0.0   \n",
       "1  1430438407   1.0     t5_2qh3l  t3_34exjb  t1_cqug96h           0.0   \n",
       "2  1430438439   4.0     t5_2qh3l  t3_34f10p  t1_cqug9tk           0.0   \n",
       "3  1430438448   0.0     t5_2qh3l  t3_34cvvg  t1_cquga1l           0.0   \n",
       "4  1430438449 -10.0     t5_2qh3l  t3_34e7eo  t1_cquga1v           0.0   \n",
       "\n",
       "   author_flair_css_class  author_flair_text subreddit       id  ...  downs  \\\n",
       "0                     NaN                NaN      news  cqug92b  ...    0.0   \n",
       "1                     NaN                NaN      news  cqug96h  ...    0.0   \n",
       "2                     NaN                NaN      news  cqug9tk  ...    0.0   \n",
       "3                     NaN                NaN      news  cquga1l  ...    0.0   \n",
       "4                     NaN                NaN      news  cquga1v  ...    0.0   \n",
       "\n",
       "   archived        author  score  retrieved_on  \\\n",
       "0       0.0     hogsucker  -11.0  1.432703e+09   \n",
       "1       0.0         flal4    1.0  1.432703e+09   \n",
       "2       0.0  HitachinoBia    4.0  1.432703e+09   \n",
       "3       0.0     [deleted]    0.0  1.432703e+09   \n",
       "4       0.0  Cultiststeve  -10.0  1.432703e+09   \n",
       "\n",
       "                                                body  distinguished edited  \\\n",
       "0  1-She got to be a bigwig at Google by sleeping...            NaN    0.0   \n",
       "1  For those about to lynch this guy [here](http:...            NaN    0.0   \n",
       "2  It feels like black people are the most racist...            NaN    0.0   \n",
       "3                                          [deleted]            NaN    0.0   \n",
       "4  Its because otherwise thats all that would app...            NaN    0.0   \n",
       "\n",
       "   controversiality   parent_id  \n",
       "0               0.0  t1_cqu4t11  \n",
       "1               1.0  t1_cqudz0p  \n",
       "2               1.0  t1_cqufsip  \n",
       "3               0.0   t3_34cvvg  \n",
       "4               0.0  t1_cqudxkr  \n",
       "\n",
       "[5 rows x 22 columns]"
      ]
     },
     "execution_count": 2,
     "metadata": {},
     "output_type": "execute_result"
    }
   ],
   "source": [
    "df = pd.read_csv('../datasets/news-20k-comments.csv')\n",
    "df.head()"
   ]
  },
  {
   "cell_type": "code",
   "execution_count": 3,
   "metadata": {},
   "outputs": [
    {
     "data": {
      "text/plain": [
       "count         20000\n",
       "unique        17491\n",
       "top       [deleted]\n",
       "freq           2468\n",
       "Name: body, dtype: object"
      ]
     },
     "execution_count": 3,
     "metadata": {},
     "output_type": "execute_result"
    }
   ],
   "source": [
    "all_comments = df['body'] # put all the comment bodies into a pandas DataFrame\n",
    "all_comments.describe()"
   ]
  },
  {
   "cell_type": "markdown",
   "metadata": {},
   "source": [
    "We can see that the most frequent comment is \"[deleted]\" which we need to remove."
   ]
  },
  {
   "cell_type": "code",
   "execution_count": 4,
   "metadata": {},
   "outputs": [
    {
     "data": {
      "text/plain": [
       "count          2468\n",
       "unique            1\n",
       "top       [deleted]\n",
       "freq           2468\n",
       "Name: body, dtype: object"
      ]
     },
     "execution_count": 4,
     "metadata": {},
     "output_type": "execute_result"
    }
   ],
   "source": [
    "# deleted comments Series\n",
    "deleted_comments = all_comments[all_comments == \"[deleted]\"]\n",
    "deleted_comments.describe()"
   ]
  },
  {
   "cell_type": "code",
   "execution_count": 5,
   "metadata": {},
   "outputs": [
    {
     "data": {
      "text/html": [
       "<div>\n",
       "<style scoped>\n",
       "    .dataframe tbody tr th:only-of-type {\n",
       "        vertical-align: middle;\n",
       "    }\n",
       "\n",
       "    .dataframe tbody tr th {\n",
       "        vertical-align: top;\n",
       "    }\n",
       "\n",
       "    .dataframe thead th {\n",
       "        text-align: right;\n",
       "    }\n",
       "</style>\n",
       "<table border=\"1\" class=\"dataframe\">\n",
       "  <thead>\n",
       "    <tr style=\"text-align: right;\">\n",
       "      <th></th>\n",
       "      <th>body</th>\n",
       "    </tr>\n",
       "  </thead>\n",
       "  <tbody>\n",
       "    <tr>\n",
       "      <th>0</th>\n",
       "      <td>1-She got to be a bigwig at Google by sleeping...</td>\n",
       "    </tr>\n",
       "    <tr>\n",
       "      <th>1</th>\n",
       "      <td>For those about to lynch this guy [here](http:...</td>\n",
       "    </tr>\n",
       "    <tr>\n",
       "      <th>2</th>\n",
       "      <td>It feels like black people are the most racist...</td>\n",
       "    </tr>\n",
       "    <tr>\n",
       "      <th>3</th>\n",
       "      <td>Its because otherwise thats all that would app...</td>\n",
       "    </tr>\n",
       "    <tr>\n",
       "      <th>4</th>\n",
       "      <td>Please go to Facebook and comment and post on ...</td>\n",
       "    </tr>\n",
       "  </tbody>\n",
       "</table>\n",
       "</div>"
      ],
      "text/plain": [
       "                                                body\n",
       "0  1-She got to be a bigwig at Google by sleeping...\n",
       "1  For those about to lynch this guy [here](http:...\n",
       "2  It feels like black people are the most racist...\n",
       "3  Its because otherwise thats all that would app...\n",
       "4  Please go to Facebook and comment and post on ..."
      ]
     },
     "execution_count": 5,
     "metadata": {},
     "output_type": "execute_result"
    }
   ],
   "source": [
    "# valid comments!\n",
    "comments = all_comments.drop(deleted_comments.index)\n",
    "comments = comments.to_frame().reset_index(drop=True)\n",
    "comments.head()"
   ]
  },
  {
   "cell_type": "code",
   "execution_count": 12,
   "metadata": {},
   "outputs": [
    {
     "data": {
      "text/plain": [
       "'Please go to Facebook and comment and post on the \"Fire Wyckoff Police Officer Kyle Ferreira\" Facebook page!! Not many have commented yet. What else can we d\\no to help?! '"
      ]
     },
     "execution_count": 12,
     "metadata": {},
     "output_type": "execute_result"
    }
   ],
   "source": [
    "# split into tokens"
   ]
  },
  {
   "cell_type": "code",
   "execution_count": null,
   "metadata": {},
   "outputs": [],
   "source": []
  }
 ],
 "metadata": {
  "kernelspec": {
   "display_name": "Python 3",
   "language": "python",
   "name": "python3"
  },
  "language_info": {
   "codemirror_mode": {
    "name": "ipython",
    "version": 3
   },
   "file_extension": ".py",
   "mimetype": "text/x-python",
   "name": "python",
   "nbconvert_exporter": "python",
   "pygments_lexer": "ipython3",
   "version": "3.8.5"
  }
 },
 "nbformat": 4,
 "nbformat_minor": 4
}
