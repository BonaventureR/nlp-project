{
 "cells": [
  {
   "cell_type": "markdown",
   "metadata": {},
   "source": [
    "## Preparation of r/politicaldiscussion data by Alexandria Benedict\n",
    "\n",
    "This data comes from the Kaggle dataset [May 2015 Reddit Comments](https://www.kaggle.com/reddit/reddit-comments-may-2015) which has over 30GB of data - all comments from the month of May 2015. This subset is 20,000 comments from the r/politicaldiscussion subreddit."
   ]
  },
  {
   "cell_type": "code",
   "execution_count": 1,
   "metadata": {},
   "outputs": [],
   "source": [
    "import numpy as np\n",
    "import pandas as pd\n",
    "import nltk\n",
    "import sklearn as sk\n",
    "import re # regex\n",
    "import matplotlib\n",
    "%matplotlib inline"
   ]
  },
  {
   "cell_type": "code",
   "execution_count": 2,
   "metadata": {},
   "outputs": [
    {
     "data": {
      "text/html": [
       "<div>\n",
       "<style scoped>\n",
       "    .dataframe tbody tr th:only-of-type {\n",
       "        vertical-align: middle;\n",
       "    }\n",
       "\n",
       "    .dataframe tbody tr th {\n",
       "        vertical-align: top;\n",
       "    }\n",
       "\n",
       "    .dataframe thead th {\n",
       "        text-align: right;\n",
       "    }\n",
       "</style>\n",
       "<table border=\"1\" class=\"dataframe\">\n",
       "  <thead>\n",
       "    <tr style=\"text-align: right;\">\n",
       "      <th></th>\n",
       "      <th>created_utc</th>\n",
       "      <th>ups</th>\n",
       "      <th>subreddit_id</th>\n",
       "      <th>link_id</th>\n",
       "      <th>name</th>\n",
       "      <th>score_hidden</th>\n",
       "      <th>author_flair_css_class</th>\n",
       "      <th>author_flair_text</th>\n",
       "      <th>subreddit</th>\n",
       "      <th>id</th>\n",
       "      <th>...</th>\n",
       "      <th>downs</th>\n",
       "      <th>archived</th>\n",
       "      <th>author</th>\n",
       "      <th>score</th>\n",
       "      <th>retrieved_on</th>\n",
       "      <th>body</th>\n",
       "      <th>distinguished</th>\n",
       "      <th>edited</th>\n",
       "      <th>controversiality</th>\n",
       "      <th>parent_id</th>\n",
       "    </tr>\n",
       "  </thead>\n",
       "  <tbody>\n",
       "    <tr>\n",
       "      <th>0</th>\n",
       "      <td>1430438403</td>\n",
       "      <td>11.0</td>\n",
       "      <td>t5_2sfmf</td>\n",
       "      <td>t3_34g4l1</td>\n",
       "      <td>t1_cqug92x</td>\n",
       "      <td>0.0</td>\n",
       "      <td>NaN</td>\n",
       "      <td>NaN</td>\n",
       "      <td>PoliticalDiscussion</td>\n",
       "      <td>cqug92x</td>\n",
       "      <td>...</td>\n",
       "      <td>0.0</td>\n",
       "      <td>0.0</td>\n",
       "      <td>Trorbes</td>\n",
       "      <td>11.0</td>\n",
       "      <td>1.432703e+09</td>\n",
       "      <td>Don't get me wrong as I'd love to give you a c...</td>\n",
       "      <td>NaN</td>\n",
       "      <td>0.0</td>\n",
       "      <td>0.0</td>\n",
       "      <td>t1_cqudtpc</td>\n",
       "    </tr>\n",
       "    <tr>\n",
       "      <th>1</th>\n",
       "      <td>1430438572</td>\n",
       "      <td>-1.0</td>\n",
       "      <td>t5_2sfmf</td>\n",
       "      <td>t3_34ef01</td>\n",
       "      <td>t1_cqugcj6</td>\n",
       "      <td>0.0</td>\n",
       "      <td>NaN</td>\n",
       "      <td>NaN</td>\n",
       "      <td>PoliticalDiscussion</td>\n",
       "      <td>cqugcj6</td>\n",
       "      <td>...</td>\n",
       "      <td>0.0</td>\n",
       "      <td>0.0</td>\n",
       "      <td>HealthcareEconomist3</td>\n",
       "      <td>-1.0</td>\n",
       "      <td>1.432703e+09</td>\n",
       "      <td>2nd cite deals with employment effects and wag...</td>\n",
       "      <td>NaN</td>\n",
       "      <td>0.0</td>\n",
       "      <td>1.0</td>\n",
       "      <td>t1_cqug4ve</td>\n",
       "    </tr>\n",
       "    <tr>\n",
       "      <th>2</th>\n",
       "      <td>1430438676</td>\n",
       "      <td>1.0</td>\n",
       "      <td>t5_2sfmf</td>\n",
       "      <td>t3_34eamh</td>\n",
       "      <td>t1_cqugent</td>\n",
       "      <td>0.0</td>\n",
       "      <td>NaN</td>\n",
       "      <td>NaN</td>\n",
       "      <td>PoliticalDiscussion</td>\n",
       "      <td>cqugent</td>\n",
       "      <td>...</td>\n",
       "      <td>0.0</td>\n",
       "      <td>0.0</td>\n",
       "      <td>GrandEthos</td>\n",
       "      <td>1.0</td>\n",
       "      <td>1.432703e+09</td>\n",
       "      <td>&amp;gt; Again, that is either naive or dishonest....</td>\n",
       "      <td>NaN</td>\n",
       "      <td>0.0</td>\n",
       "      <td>0.0</td>\n",
       "      <td>t1_cqu0f02</td>\n",
       "    </tr>\n",
       "    <tr>\n",
       "      <th>3</th>\n",
       "      <td>1430438716</td>\n",
       "      <td>2.0</td>\n",
       "      <td>t5_2sfmf</td>\n",
       "      <td>t3_34eamh</td>\n",
       "      <td>t1_cqugfk8</td>\n",
       "      <td>0.0</td>\n",
       "      <td>NaN</td>\n",
       "      <td>NaN</td>\n",
       "      <td>PoliticalDiscussion</td>\n",
       "      <td>cqugfk8</td>\n",
       "      <td>...</td>\n",
       "      <td>0.0</td>\n",
       "      <td>0.0</td>\n",
       "      <td>GrandEthos</td>\n",
       "      <td>2.0</td>\n",
       "      <td>1.432703e+09</td>\n",
       "      <td>&amp;gt; None of the four Originalist are expected...</td>\n",
       "      <td>NaN</td>\n",
       "      <td>0.0</td>\n",
       "      <td>0.0</td>\n",
       "      <td>t1_cqu02s6</td>\n",
       "    </tr>\n",
       "    <tr>\n",
       "      <th>4</th>\n",
       "      <td>1430438763</td>\n",
       "      <td>4.0</td>\n",
       "      <td>t5_2sfmf</td>\n",
       "      <td>t3_34gfei</td>\n",
       "      <td>t1_cqugglw</td>\n",
       "      <td>0.0</td>\n",
       "      <td>NaN</td>\n",
       "      <td>NaN</td>\n",
       "      <td>PoliticalDiscussion</td>\n",
       "      <td>cqugglw</td>\n",
       "      <td>...</td>\n",
       "      <td>0.0</td>\n",
       "      <td>0.0</td>\n",
       "      <td>Left_of_Center2011</td>\n",
       "      <td>4.0</td>\n",
       "      <td>1.432703e+09</td>\n",
       "      <td>I think the key term in that report is Income,...</td>\n",
       "      <td>NaN</td>\n",
       "      <td>0.0</td>\n",
       "      <td>1.0</td>\n",
       "      <td>t1_cqug6h8</td>\n",
       "    </tr>\n",
       "  </tbody>\n",
       "</table>\n",
       "<p>5 rows × 22 columns</p>\n",
       "</div>"
      ],
      "text/plain": [
       "  created_utc   ups subreddit_id    link_id        name  score_hidden  \\\n",
       "0  1430438403  11.0     t5_2sfmf  t3_34g4l1  t1_cqug92x           0.0   \n",
       "1  1430438572  -1.0     t5_2sfmf  t3_34ef01  t1_cqugcj6           0.0   \n",
       "2  1430438676   1.0     t5_2sfmf  t3_34eamh  t1_cqugent           0.0   \n",
       "3  1430438716   2.0     t5_2sfmf  t3_34eamh  t1_cqugfk8           0.0   \n",
       "4  1430438763   4.0     t5_2sfmf  t3_34gfei  t1_cqugglw           0.0   \n",
       "\n",
       "   author_flair_css_class  author_flair_text            subreddit       id  \\\n",
       "0                     NaN                NaN  PoliticalDiscussion  cqug92x   \n",
       "1                     NaN                NaN  PoliticalDiscussion  cqugcj6   \n",
       "2                     NaN                NaN  PoliticalDiscussion  cqugent   \n",
       "3                     NaN                NaN  PoliticalDiscussion  cqugfk8   \n",
       "4                     NaN                NaN  PoliticalDiscussion  cqugglw   \n",
       "\n",
       "   ...  downs  archived                author  score  retrieved_on  \\\n",
       "0  ...    0.0       0.0               Trorbes   11.0  1.432703e+09   \n",
       "1  ...    0.0       0.0  HealthcareEconomist3   -1.0  1.432703e+09   \n",
       "2  ...    0.0       0.0            GrandEthos    1.0  1.432703e+09   \n",
       "3  ...    0.0       0.0            GrandEthos    2.0  1.432703e+09   \n",
       "4  ...    0.0       0.0    Left_of_Center2011    4.0  1.432703e+09   \n",
       "\n",
       "                                                body  distinguished edited  \\\n",
       "0  Don't get me wrong as I'd love to give you a c...            NaN    0.0   \n",
       "1  2nd cite deals with employment effects and wag...            NaN    0.0   \n",
       "2  &gt; Again, that is either naive or dishonest....            NaN    0.0   \n",
       "3  &gt; None of the four Originalist are expected...            NaN    0.0   \n",
       "4  I think the key term in that report is Income,...            NaN    0.0   \n",
       "\n",
       "  controversiality   parent_id  \n",
       "0              0.0  t1_cqudtpc  \n",
       "1              1.0  t1_cqug4ve  \n",
       "2              0.0  t1_cqu0f02  \n",
       "3              0.0  t1_cqu02s6  \n",
       "4              1.0  t1_cqug6h8  \n",
       "\n",
       "[5 rows x 22 columns]"
      ]
     },
     "execution_count": 2,
     "metadata": {},
     "output_type": "execute_result"
    }
   ],
   "source": [
    "df = pd.read_csv('../datasets/politicaldiscussion-20k-comments.csv')\n",
    "df.head()"
   ]
  },
  {
   "cell_type": "code",
   "execution_count": 3,
   "metadata": {},
   "outputs": [
    {
     "data": {
      "text/plain": [
       "count         20000\n",
       "unique        19135\n",
       "top       [deleted]\n",
       "freq            833\n",
       "Name: body, dtype: object"
      ]
     },
     "execution_count": 3,
     "metadata": {},
     "output_type": "execute_result"
    }
   ],
   "source": [
    "all_comments = df['body'] # put all the comment bodies into a pandas DataFrame\n",
    "all_comments.describe()"
   ]
  },
  {
   "cell_type": "code",
   "execution_count": 4,
   "metadata": {},
   "outputs": [
    {
     "data": {
      "text/plain": [
       "count           833\n",
       "unique            1\n",
       "top       [deleted]\n",
       "freq            833\n",
       "Name: body, dtype: object"
      ]
     },
     "execution_count": 4,
     "metadata": {},
     "output_type": "execute_result"
    }
   ],
   "source": [
    "# deleted comments Series\n",
    "deleted_comments = all_comments[all_comments == \"[deleted]\"]\n",
    "deleted_comments.describe()"
   ]
  },
  {
   "cell_type": "code",
   "execution_count": 5,
   "metadata": {},
   "outputs": [
    {
     "data": {
      "text/html": [
       "<div>\n",
       "<style scoped>\n",
       "    .dataframe tbody tr th:only-of-type {\n",
       "        vertical-align: middle;\n",
       "    }\n",
       "\n",
       "    .dataframe tbody tr th {\n",
       "        vertical-align: top;\n",
       "    }\n",
       "\n",
       "    .dataframe thead th {\n",
       "        text-align: right;\n",
       "    }\n",
       "</style>\n",
       "<table border=\"1\" class=\"dataframe\">\n",
       "  <thead>\n",
       "    <tr style=\"text-align: right;\">\n",
       "      <th></th>\n",
       "      <th>body</th>\n",
       "    </tr>\n",
       "  </thead>\n",
       "  <tbody>\n",
       "    <tr>\n",
       "      <th>0</th>\n",
       "      <td>Don't get me wrong as I'd love to give you a c...</td>\n",
       "    </tr>\n",
       "    <tr>\n",
       "      <th>1</th>\n",
       "      <td>2nd cite deals with employment effects and wag...</td>\n",
       "    </tr>\n",
       "    <tr>\n",
       "      <th>2</th>\n",
       "      <td>&amp;gt; Again, that is either naive or dishonest....</td>\n",
       "    </tr>\n",
       "    <tr>\n",
       "      <th>3</th>\n",
       "      <td>&amp;gt; None of the four Originalist are expected...</td>\n",
       "    </tr>\n",
       "    <tr>\n",
       "      <th>4</th>\n",
       "      <td>I think the key term in that report is Income,...</td>\n",
       "    </tr>\n",
       "  </tbody>\n",
       "</table>\n",
       "</div>"
      ],
      "text/plain": [
       "                                                body\n",
       "0  Don't get me wrong as I'd love to give you a c...\n",
       "1  2nd cite deals with employment effects and wag...\n",
       "2  &gt; Again, that is either naive or dishonest....\n",
       "3  &gt; None of the four Originalist are expected...\n",
       "4  I think the key term in that report is Income,..."
      ]
     },
     "execution_count": 5,
     "metadata": {},
     "output_type": "execute_result"
    }
   ],
   "source": [
    "# valid comments!\n",
    "comments = all_comments.drop(deleted_comments.index)\n",
    "comments = comments.to_frame().reset_index(drop=True).astype('str')\n",
    "comments.head()"
   ]
  },
  {
   "cell_type": "code",
   "execution_count": 6,
   "metadata": {},
   "outputs": [
    {
     "data": {
      "text/plain": [
       "'2nd cite deals with employment effects and wage effects.'"
      ]
     },
     "execution_count": 6,
     "metadata": {},
     "output_type": "execute_result"
    }
   ],
   "source": [
    "comments['body'][1]"
   ]
  },
  {
   "cell_type": "code",
   "execution_count": 7,
   "metadata": {},
   "outputs": [
    {
     "data": {
      "text/plain": [
       "0    dont get me wrong as id love to give you a com...\n",
       "1    2nd cite deals with employment effects and wag...\n",
       "2    &gt; again, that is either naive or dishonest....\n",
       "3    &gt; none of the four originalist are expected...\n",
       "4    i think the key term in that report is income,...\n",
       "Name: clean, dtype: object"
      ]
     },
     "execution_count": 7,
     "metadata": {},
     "output_type": "execute_result"
    }
   ],
   "source": [
    "# clean out any urls and and brackets, parenthesis and hyphens, leaving only alphanumeric words\n",
    "url_regex = r\"([--:\\w?@%&+~#=]*\\.[a-z]{2,4}\\/{0,2})((?:[?&](?:\\w+)=(?:\\w+))+|[--:\\w?@%&+~#=]+)?\"\n",
    "special_character_regex = r\"[\\\"'()[\\]]\"\n",
    "\n",
    "#remove urls, special characters, and replace hyphens with a space\n",
    "comments['clean'] = comments['body'].apply(lambda text: text.strip().lower()).apply(lambda text: re.sub(url_regex, '', text)).apply(lambda text: re.sub(special_character_regex, '', text)).apply(lambda text: re.sub(r\"-\", ' ', text))\n",
    "comments['clean'].head()"
   ]
  },
  {
   "cell_type": "code",
   "execution_count": 8,
   "metadata": {},
   "outputs": [],
   "source": [
    "comments['tokens'] = comments['clean'].apply(lambda text: re.sub(r\"[.,!?]\",\" \", text)).apply(lambda text: re.sub(r\"[0-9]\", \" \", text)).apply(nltk.wordpunct_tokenize)"
   ]
  },
  {
   "cell_type": "code",
   "execution_count": 9,
   "metadata": {},
   "outputs": [
    {
     "data": {
      "text/html": [
       "<div>\n",
       "<style scoped>\n",
       "    .dataframe tbody tr th:only-of-type {\n",
       "        vertical-align: middle;\n",
       "    }\n",
       "\n",
       "    .dataframe tbody tr th {\n",
       "        vertical-align: top;\n",
       "    }\n",
       "\n",
       "    .dataframe thead th {\n",
       "        text-align: right;\n",
       "    }\n",
       "</style>\n",
       "<table border=\"1\" class=\"dataframe\">\n",
       "  <thead>\n",
       "    <tr style=\"text-align: right;\">\n",
       "      <th></th>\n",
       "      <th>body</th>\n",
       "      <th>clean</th>\n",
       "      <th>tokens</th>\n",
       "    </tr>\n",
       "  </thead>\n",
       "  <tbody>\n",
       "    <tr>\n",
       "      <th>0</th>\n",
       "      <td>Don't get me wrong as I'd love to give you a c...</td>\n",
       "      <td>dont get me wrong as id love to give you a com...</td>\n",
       "      <td>[dont, get, me, wrong, as, id, love, to, give,...</td>\n",
       "    </tr>\n",
       "    <tr>\n",
       "      <th>1</th>\n",
       "      <td>2nd cite deals with employment effects and wag...</td>\n",
       "      <td>2nd cite deals with employment effects and wag...</td>\n",
       "      <td>[nd, cite, deals, with, employment, effects, a...</td>\n",
       "    </tr>\n",
       "    <tr>\n",
       "      <th>2</th>\n",
       "      <td>&amp;gt; Again, that is either naive or dishonest....</td>\n",
       "      <td>&amp;gt; again, that is either naive or dishonest....</td>\n",
       "      <td>[&amp;, gt, ;, again, that, is, either, naive, or,...</td>\n",
       "    </tr>\n",
       "    <tr>\n",
       "      <th>3</th>\n",
       "      <td>&amp;gt; None of the four Originalist are expected...</td>\n",
       "      <td>&amp;gt; none of the four originalist are expected...</td>\n",
       "      <td>[&amp;, gt, ;, none, of, the, four, originalist, a...</td>\n",
       "    </tr>\n",
       "    <tr>\n",
       "      <th>4</th>\n",
       "      <td>I think the key term in that report is Income,...</td>\n",
       "      <td>i think the key term in that report is income,...</td>\n",
       "      <td>[i, think, the, key, term, in, that, report, i...</td>\n",
       "    </tr>\n",
       "    <tr>\n",
       "      <th>...</th>\n",
       "      <td>...</td>\n",
       "      <td>...</td>\n",
       "      <td>...</td>\n",
       "    </tr>\n",
       "    <tr>\n",
       "      <th>19169</th>\n",
       "      <td>The U.S. government is the aggressor in the w...</td>\n",
       "      <td>the u.s. government is the aggressor in the wa...</td>\n",
       "      <td>[the, u, s, government, is, the, aggressor, in...</td>\n",
       "    </tr>\n",
       "    <tr>\n",
       "      <th>19170</th>\n",
       "      <td>If you're against the initiation of the use of...</td>\n",
       "      <td>if youre against the initiation of the use of ...</td>\n",
       "      <td>[if, youre, against, the, initiation, of, the,...</td>\n",
       "    </tr>\n",
       "    <tr>\n",
       "      <th>19171</th>\n",
       "      <td>If you're relying on Bloomberg hit pieces to g...</td>\n",
       "      <td>if youre relying on bloomberg hit pieces to gi...</td>\n",
       "      <td>[if, youre, relying, on, bloomberg, hit, piece...</td>\n",
       "    </tr>\n",
       "    <tr>\n",
       "      <th>19172</th>\n",
       "      <td>Are you aware about what you just said? This i...</td>\n",
       "      <td>are you aware about what you just said? this i...</td>\n",
       "      <td>[are, you, aware, about, what, you, just, said...</td>\n",
       "    </tr>\n",
       "    <tr>\n",
       "      <th>19173</th>\n",
       "      <td>I really could use clarification. \\n\\nYou want...</td>\n",
       "      <td>i really could use clarification. \\n\\nyou want...</td>\n",
       "      <td>[i, really, could, use, clarification, you, wa...</td>\n",
       "    </tr>\n",
       "  </tbody>\n",
       "</table>\n",
       "<p>19174 rows × 3 columns</p>\n",
       "</div>"
      ],
      "text/plain": [
       "                                                    body  \\\n",
       "0      Don't get me wrong as I'd love to give you a c...   \n",
       "1      2nd cite deals with employment effects and wag...   \n",
       "2      &gt; Again, that is either naive or dishonest....   \n",
       "3      &gt; None of the four Originalist are expected...   \n",
       "4      I think the key term in that report is Income,...   \n",
       "...                                                  ...   \n",
       "19169   The U.S. government is the aggressor in the w...   \n",
       "19170  If you're against the initiation of the use of...   \n",
       "19171  If you're relying on Bloomberg hit pieces to g...   \n",
       "19172  Are you aware about what you just said? This i...   \n",
       "19173  I really could use clarification. \\n\\nYou want...   \n",
       "\n",
       "                                                   clean  \\\n",
       "0      dont get me wrong as id love to give you a com...   \n",
       "1      2nd cite deals with employment effects and wag...   \n",
       "2      &gt; again, that is either naive or dishonest....   \n",
       "3      &gt; none of the four originalist are expected...   \n",
       "4      i think the key term in that report is income,...   \n",
       "...                                                  ...   \n",
       "19169  the u.s. government is the aggressor in the wa...   \n",
       "19170  if youre against the initiation of the use of ...   \n",
       "19171  if youre relying on bloomberg hit pieces to gi...   \n",
       "19172  are you aware about what you just said? this i...   \n",
       "19173  i really could use clarification. \\n\\nyou want...   \n",
       "\n",
       "                                                  tokens  \n",
       "0      [dont, get, me, wrong, as, id, love, to, give,...  \n",
       "1      [nd, cite, deals, with, employment, effects, a...  \n",
       "2      [&, gt, ;, again, that, is, either, naive, or,...  \n",
       "3      [&, gt, ;, none, of, the, four, originalist, a...  \n",
       "4      [i, think, the, key, term, in, that, report, i...  \n",
       "...                                                  ...  \n",
       "19169  [the, u, s, government, is, the, aggressor, in...  \n",
       "19170  [if, youre, against, the, initiation, of, the,...  \n",
       "19171  [if, youre, relying, on, bloomberg, hit, piece...  \n",
       "19172  [are, you, aware, about, what, you, just, said...  \n",
       "19173  [i, really, could, use, clarification, you, wa...  \n",
       "\n",
       "[19174 rows x 3 columns]"
      ]
     },
     "execution_count": 9,
     "metadata": {},
     "output_type": "execute_result"
    }
   ],
   "source": [
    "comments"
   ]
  },
  {
   "cell_type": "markdown",
   "metadata": {},
   "source": [
    "## Decisions when cleaning and preparing data\n",
    "\n",
    "For this analysis, we chose to remove markdown syntax as well as URLs. This is because they're not really important for forming new sentences for that subreddit, as valid markdown can just be text. Let's see the choices used for each DataFrame columns and why!\n",
    "\n",
    "- body - This column is the original markdown source text. It's less than 20k because we remove any comments that are deleted.\n",
    "- clean - This column strips whitespace at the beginning and ending of the body text, then converts to lowercase. We then remove URLs and markdown special characters such as `[`,`]`, and `(`,`)` characters. We also remove `-` characters but replace with a space, since hyphens act similar to a space syntactically.\n",
    "- tokens - This column simply uses the `wordpunct_tokenize` method and seperates the clean column into a list. Before tokenizing, we strip any punctuation! We don't need punctuation for analysis on this part, as we're going to use the `tokens` column to analyse token frequency, uniqueness, and other metrics.\n",
    "\n",
    "We'll use the `clean` column when separating the sentences into n-grams later, which is why we don't include `<START>` and `<STOP>` here, as this is just preprocessing and exploratory analysis, not building linguistic models."
   ]
  },
  {
   "cell_type": "code",
   "execution_count": 10,
   "metadata": {},
   "outputs": [],
   "source": [
    "all_words = [token for sentence in comments['tokens'] for token in sentence]"
   ]
  },
  {
   "cell_type": "code",
   "execution_count": 11,
   "metadata": {},
   "outputs": [
    {
     "data": {
      "text/plain": [
       "FreqDist({'the': 66022, 'to': 39995, 'a': 31217, 'of': 30466, 'and': 28363, 'that': 23974, 'is': 22981, 'in': 19496, 'i': 16310, 'you': 15640, ...})"
      ]
     },
     "execution_count": 11,
     "metadata": {},
     "output_type": "execute_result"
    }
   ],
   "source": [
    "freqdist = nltk.FreqDist(all_words)\n",
    "freqdist"
   ]
  },
  {
   "cell_type": "code",
   "execution_count": 12,
   "metadata": {},
   "outputs": [
    {
     "data": {
      "image/png": "[encoded data removed]",
      "text/plain": [
       "<Figure size 432x288 with 1 Axes>"
      ]
     },
     "metadata": {
      "needs_background": "light"
     },
     "output_type": "display_data"
    },
    {
     "data": {
      "text/plain": [
       "<matplotlib.axes._subplots.AxesSubplot at 0x7f6df4f86d30>"
      ]
     },
     "execution_count": 12,
     "metadata": {},
     "output_type": "execute_result"
    }
   ],
   "source": [
    "freqdist.plot(100)"
   ]
  },
  {
   "cell_type": "code",
   "execution_count": 13,
   "metadata": {},
   "outputs": [
    {
     "name": "stdout",
     "output_type": "stream",
     "text": [
      "Number of occurances of 'I': 16310\n",
      "Number of occurances of 'You': 15640\n"
     ]
    }
   ],
   "source": [
    "print(\"Number of occurances of 'I':\", freqdist['i'])\n",
    "print(\"Number of occurances of 'You':\", freqdist['you'])"
   ]
  },
  {
   "cell_type": "markdown",
   "metadata": {},
   "source": [
    "Compared to the two other subreddits, I and You are more commonly used in r/PoliticalDiscussion, which may be indicative of more interpersonal comments rather than simply *commenting* on/about an article."
   ]
  },
  {
   "cell_type": "code",
   "execution_count": 14,
   "metadata": {},
   "outputs": [
    {
     "name": "stdout",
     "output_type": "stream",
     "text": [
      "Total words:  1365413\n",
      "Unique words:  27235\n",
      "Words that only occur once:  9493\n"
     ]
    }
   ],
   "source": [
    "unique_words = []\n",
    "for word in all_words:\n",
    "    if word not in unique_words:\n",
    "        unique_words.append(word)\n",
    "\n",
    "print(\"Total words: \", len(all_words))\n",
    "print(\"Unique words: \", len(unique_words))\n",
    "print(\"Words that only occur once: \", len([word for word in all_words if freqdist[word] == 1]))"
   ]
  },
  {
   "cell_type": "markdown",
   "metadata": {},
   "source": [
    "We have nearly 1.3m words in our dataset, and just over than 27k unique words. We also see that 9.4k words occur only once.\n",
    "\n",
    "However, let's also note that some of these unique words are mis-spellings! This is a dataset that's imperfect, and reflects how people type and communicate."
   ]
  },
  {
   "cell_type": "code",
   "execution_count": 15,
   "metadata": {},
   "outputs": [],
   "source": [
    "avg_len_chars = 0\n",
    "for comment in comments['clean']:\n",
    "    avg_len_chars += len(comment)\n",
    "avg_len_chars /= len(comments)\n",
    "\n",
    "avg_len_words = 0\n",
    "for comment in comments['tokens']:\n",
    "    avg_len_words += len(comment)\n",
    "avg_len_words /= len(comments)"
   ]
  },
  {
   "cell_type": "code",
   "execution_count": 18,
   "metadata": {},
   "outputs": [
    {
     "name": "stdout",
     "output_type": "stream",
     "text": [
      "Avg length of comment (characters):  401.449827891937\n",
      "Avg length of comment (words):  71.21169291749244\n",
      "Avg length of word:  5.637414467271074\n"
     ]
    }
   ],
   "source": [
    "print(\"Avg length of comment (characters): \", avg_len_chars)\n",
    "print(\"Avg length of comment (words): \", avg_len_words)\n",
    "print(\"Avg length of word: \", avg_len_chars/avg_len_words)"
   ]
  },
  {
   "cell_type": "markdown",
   "metadata": {},
   "source": [
    "We can see that the average length of a comment is 71.2 words, or 401.4 characters. This means that the average word length is 5.6 characters. You can image that this is true because most of the words in the top 20 most frequent words in our list are short, around 1-4 characters in length."
   ]
  },
  {
   "cell_type": "code",
   "execution_count": 16,
   "metadata": {},
   "outputs": [
    {
     "data": {
      "image/png": "[encoded data removed]",
      "text/plain": [
       "<Figure size 432x288 with 1 Axes>"
      ]
     },
     "metadata": {
      "needs_background": "light"
     },
     "output_type": "display_data"
    },
    {
     "data": {
      "text/plain": [
       "<matplotlib.axes._subplots.AxesSubplot at 0x7f6df483da30>"
      ]
     },
     "execution_count": 16,
     "metadata": {},
     "output_type": "execute_result"
    }
   ],
   "source": [
    "freqdist.plot(20)"
   ]
  },
  {
   "cell_type": "code",
   "execution_count": null,
   "metadata": {},
   "outputs": [],
   "source": []
  }
 ],
 "metadata": {
  "kernelspec": {
   "display_name": "Python 3",
   "language": "python",
   "name": "python3"
  },
  "language_info": {
   "codemirror_mode": {
    "name": "ipython",
    "version": 3
   },
   "file_extension": ".py",
   "mimetype": "text/x-python",
   "name": "python",
   "nbconvert_exporter": "python",
   "pygments_lexer": "ipython3",
   "version": "3.8.5"
  }
 },
 "nbformat": 4,
 "nbformat_minor": 4
}
